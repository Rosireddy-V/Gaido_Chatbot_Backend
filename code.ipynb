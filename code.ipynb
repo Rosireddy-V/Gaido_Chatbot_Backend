{
 "cells": [
  {
   "cell_type": "code",
   "execution_count": 10,
   "id": "4079ad34-75d9-4c7a-b33d-9b16f570eb4e",
   "metadata": {},
   "outputs": [
    {
     "name": "stdout",
     "output_type": "stream",
     "text": [
      "Requirement already satisfied: langchain in /Applications/anaconda3/envs/misenv/lib/python3.12/site-packages (0.3.3)\n",
      "Collecting langchain\n",
      "  Downloading langchain-0.3.19-py3-none-any.whl.metadata (7.9 kB)\n",
      "Requirement already satisfied: langchain-core in /Applications/anaconda3/envs/misenv/lib/python3.12/site-packages (0.3.10)\n",
      "Collecting langchain-core\n",
      "  Downloading langchain_core-0.3.40-py3-none-any.whl.metadata (5.9 kB)\n",
      "Requirement already satisfied: langchain-community in /Applications/anaconda3/envs/misenv/lib/python3.12/site-packages (0.3.2)\n",
      "Collecting langchain-community\n",
      "  Downloading langchain_community-0.3.18-py3-none-any.whl.metadata (2.4 kB)\n",
      "Requirement already satisfied: langchain-mistralai in /Applications/anaconda3/envs/misenv/lib/python3.12/site-packages (0.1.12)\n",
      "Collecting langchain-mistralai\n",
      "  Downloading langchain_mistralai-0.2.7-py3-none-any.whl.metadata (2.0 kB)\n",
      "Requirement already satisfied: pydantic in /Applications/anaconda3/envs/misenv/lib/python3.12/site-packages (2.9.2)\n",
      "Collecting pydantic\n",
      "  Downloading pydantic-2.10.6-py3-none-any.whl.metadata (30 kB)\n",
      "Collecting langchain-text-splitters<1.0.0,>=0.3.6 (from langchain)\n",
      "  Downloading langchain_text_splitters-0.3.6-py3-none-any.whl.metadata (1.9 kB)\n",
      "Requirement already satisfied: langsmith<0.4,>=0.1.17 in /Applications/anaconda3/envs/misenv/lib/python3.12/site-packages (from langchain) (0.1.129)\n",
      "Requirement already satisfied: SQLAlchemy<3,>=1.4 in /Applications/anaconda3/envs/misenv/lib/python3.12/site-packages (from langchain) (2.0.32)\n",
      "Requirement already satisfied: requests<3,>=2 in /Applications/anaconda3/envs/misenv/lib/python3.12/site-packages (from langchain) (2.32.3)\n",
      "Requirement already satisfied: PyYAML>=5.3 in /Applications/anaconda3/envs/misenv/lib/python3.12/site-packages (from langchain) (6.0.1)\n",
      "Requirement already satisfied: aiohttp<4.0.0,>=3.8.3 in /Applications/anaconda3/envs/misenv/lib/python3.12/site-packages (from langchain) (3.9.5)\n",
      "Requirement already satisfied: tenacity!=8.4.0,<10,>=8.1.0 in /Applications/anaconda3/envs/misenv/lib/python3.12/site-packages (from langchain) (8.2.3)\n",
      "Requirement already satisfied: numpy<3,>=1.26.2 in /Applications/anaconda3/envs/misenv/lib/python3.12/site-packages (from langchain) (1.26.4)\n",
      "Requirement already satisfied: jsonpatch<2.0,>=1.33 in /Applications/anaconda3/envs/misenv/lib/python3.12/site-packages (from langchain-core) (1.33)\n",
      "Requirement already satisfied: packaging<25,>=23.2 in /Applications/anaconda3/envs/misenv/lib/python3.12/site-packages (from langchain-core) (24.1)\n",
      "Requirement already satisfied: typing-extensions>=4.7 in /Applications/anaconda3/envs/misenv/lib/python3.12/site-packages (from langchain-core) (4.11.0)\n",
      "Requirement already satisfied: dataclasses-json<0.7,>=0.5.7 in /Applications/anaconda3/envs/misenv/lib/python3.12/site-packages (from langchain-community) (0.6.7)\n",
      "Requirement already satisfied: pydantic-settings<3.0.0,>=2.4.0 in /Applications/anaconda3/envs/misenv/lib/python3.12/site-packages (from langchain-community) (2.5.2)\n",
      "Requirement already satisfied: httpx-sse<1.0.0,>=0.4.0 in /Applications/anaconda3/envs/misenv/lib/python3.12/site-packages (from langchain-community) (0.4.0)\n",
      "Requirement already satisfied: tokenizers<1,>=0.15.1 in /Applications/anaconda3/envs/misenv/lib/python3.12/site-packages (from langchain-mistralai) (0.19.1)\n",
      "Requirement already satisfied: httpx<1,>=0.25.2 in /Applications/anaconda3/envs/misenv/lib/python3.12/site-packages (from langchain-mistralai) (0.27.0)\n",
      "Requirement already satisfied: annotated-types>=0.6.0 in /Applications/anaconda3/envs/misenv/lib/python3.12/site-packages (from pydantic) (0.6.0)\n",
      "Collecting pydantic-core==2.27.2 (from pydantic)\n",
      "  Downloading pydantic_core-2.27.2-cp312-cp312-macosx_11_0_arm64.whl.metadata (6.6 kB)\n",
      "Collecting typing-extensions>=4.7 (from langchain-core)\n",
      "  Using cached typing_extensions-4.12.2-py3-none-any.whl.metadata (3.0 kB)\n",
      "Requirement already satisfied: aiosignal>=1.1.2 in /Applications/anaconda3/envs/misenv/lib/python3.12/site-packages (from aiohttp<4.0.0,>=3.8.3->langchain) (1.2.0)\n",
      "Requirement already satisfied: attrs>=17.3.0 in /Applications/anaconda3/envs/misenv/lib/python3.12/site-packages (from aiohttp<4.0.0,>=3.8.3->langchain) (23.1.0)\n",
      "Requirement already satisfied: frozenlist>=1.1.1 in /Applications/anaconda3/envs/misenv/lib/python3.12/site-packages (from aiohttp<4.0.0,>=3.8.3->langchain) (1.4.0)\n",
      "Requirement already satisfied: multidict<7.0,>=4.5 in /Applications/anaconda3/envs/misenv/lib/python3.12/site-packages (from aiohttp<4.0.0,>=3.8.3->langchain) (6.0.4)\n",
      "Requirement already satisfied: yarl<2.0,>=1.0 in /Applications/anaconda3/envs/misenv/lib/python3.12/site-packages (from aiohttp<4.0.0,>=3.8.3->langchain) (1.9.3)\n",
      "Requirement already satisfied: marshmallow<4.0.0,>=3.18.0 in /Applications/anaconda3/envs/misenv/lib/python3.12/site-packages (from dataclasses-json<0.7,>=0.5.7->langchain-community) (3.21.3)\n",
      "Requirement already satisfied: typing-inspect<1,>=0.4.0 in /Applications/anaconda3/envs/misenv/lib/python3.12/site-packages (from dataclasses-json<0.7,>=0.5.7->langchain-community) (0.9.0)\n",
      "Requirement already satisfied: anyio in /Applications/anaconda3/envs/misenv/lib/python3.12/site-packages (from httpx<1,>=0.25.2->langchain-mistralai) (4.2.0)\n",
      "Requirement already satisfied: certifi in /Applications/anaconda3/envs/misenv/lib/python3.12/site-packages (from httpx<1,>=0.25.2->langchain-mistralai) (2024.8.30)\n",
      "Requirement already satisfied: httpcore==1.* in /Applications/anaconda3/envs/misenv/lib/python3.12/site-packages (from httpx<1,>=0.25.2->langchain-mistralai) (1.0.5)\n",
      "Requirement already satisfied: idna in /Applications/anaconda3/envs/misenv/lib/python3.12/site-packages (from httpx<1,>=0.25.2->langchain-mistralai) (3.7)\n",
      "Requirement already satisfied: sniffio in /Applications/anaconda3/envs/misenv/lib/python3.12/site-packages (from httpx<1,>=0.25.2->langchain-mistralai) (1.3.0)\n",
      "Requirement already satisfied: h11<0.15,>=0.13 in /Applications/anaconda3/envs/misenv/lib/python3.12/site-packages (from httpcore==1.*->httpx<1,>=0.25.2->langchain-mistralai) (0.14.0)\n",
      "Requirement already satisfied: jsonpointer>=1.9 in /Applications/anaconda3/envs/misenv/lib/python3.12/site-packages (from jsonpatch<2.0,>=1.33->langchain-core) (3.0.0)\n",
      "Requirement already satisfied: orjson<4.0.0,>=3.9.14 in /Applications/anaconda3/envs/misenv/lib/python3.12/site-packages (from langsmith<0.4,>=0.1.17->langchain) (3.9.15)\n",
      "Requirement already satisfied: python-dotenv>=0.21.0 in /Applications/anaconda3/envs/misenv/lib/python3.12/site-packages (from pydantic-settings<3.0.0,>=2.4.0->langchain-community) (1.0.1)\n",
      "Requirement already satisfied: charset-normalizer<4,>=2 in /Applications/anaconda3/envs/misenv/lib/python3.12/site-packages (from requests<3,>=2->langchain) (3.3.2)\n",
      "Requirement already satisfied: urllib3<3,>=1.21.1 in /Applications/anaconda3/envs/misenv/lib/python3.12/site-packages (from requests<3,>=2->langchain) (2.2.2)\n",
      "Requirement already satisfied: huggingface-hub<1.0,>=0.16.4 in /Applications/anaconda3/envs/misenv/lib/python3.12/site-packages (from tokenizers<1,>=0.15.1->langchain-mistralai) (0.23.1)\n",
      "Requirement already satisfied: filelock in /Applications/anaconda3/envs/misenv/lib/python3.12/site-packages (from huggingface-hub<1.0,>=0.16.4->tokenizers<1,>=0.15.1->langchain-mistralai) (3.13.1)\n",
      "Requirement already satisfied: fsspec>=2023.5.0 in /Applications/anaconda3/envs/misenv/lib/python3.12/site-packages (from huggingface-hub<1.0,>=0.16.4->tokenizers<1,>=0.15.1->langchain-mistralai) (2024.3.1)\n",
      "Requirement already satisfied: tqdm>=4.42.1 in /Applications/anaconda3/envs/misenv/lib/python3.12/site-packages (from huggingface-hub<1.0,>=0.16.4->tokenizers<1,>=0.15.1->langchain-mistralai) (4.66.4)\n",
      "Requirement already satisfied: mypy-extensions>=0.3.0 in /Applications/anaconda3/envs/misenv/lib/python3.12/site-packages (from typing-inspect<1,>=0.4.0->dataclasses-json<0.7,>=0.5.7->langchain-community) (1.0.0)\n",
      "Downloading langchain-0.3.19-py3-none-any.whl (1.0 MB)\n",
      "\u001b[2K   \u001b[38;2;114;156;31m━━━━━━━━━━━━━━━━━━━━━━━━━━━━━━━━━━━━━━━━\u001b[0m \u001b[32m1.0/1.0 MB\u001b[0m \u001b[31m1.8 MB/s\u001b[0m eta \u001b[36m0:00:00\u001b[0m MB/s\u001b[0m eta \u001b[36m0:00:01\u001b[0m\n",
      "\u001b[?25hDownloading langchain_core-0.3.40-py3-none-any.whl (414 kB)\n",
      "Downloading langchain_community-0.3.18-py3-none-any.whl (2.5 MB)\n",
      "\u001b[2K   \u001b[38;2;114;156;31m━━━━━━━━━━━━━━━━━━━━━━━━━━━━━━━━━━━━━━━━\u001b[0m \u001b[32m2.5/2.5 MB\u001b[0m \u001b[31m402.3 kB/s\u001b[0m eta \u001b[36m0:00:00\u001b[0m kB/s\u001b[0m eta \u001b[36m0:00:01\u001b[0m:03\u001b[0m\n",
      "\u001b[?25hDownloading langchain_mistralai-0.2.7-py3-none-any.whl (15 kB)\n",
      "Downloading pydantic-2.10.6-py3-none-any.whl (431 kB)\n",
      "Downloading pydantic_core-2.27.2-cp312-cp312-macosx_11_0_arm64.whl (1.8 MB)\n",
      "\u001b[2K   \u001b[38;2;114;156;31m━━━━━━━━━━━━━━━━━━━━━━━━━━━━━━━━━━━━━━━━\u001b[0m \u001b[32m1.8/1.8 MB\u001b[0m \u001b[31m225.3 kB/s\u001b[0m eta \u001b[36m0:00:00\u001b[0m1m216.9 kB/s\u001b[0m eta \u001b[36m0:00:02\u001b[0m\n",
      "\u001b[?25hDownloading langchain_text_splitters-0.3.6-py3-none-any.whl (31 kB)\n",
      "Using cached typing_extensions-4.12.2-py3-none-any.whl (37 kB)\n",
      "Installing collected packages: typing-extensions, pydantic-core, pydantic, langchain-core, langchain-text-splitters, langchain-mistralai, langchain, langchain-community\n",
      "  Attempting uninstall: typing-extensions\n",
      "    Found existing installation: typing_extensions 4.11.0\n",
      "    Uninstalling typing_extensions-4.11.0:\n",
      "      Successfully uninstalled typing_extensions-4.11.0\n",
      "  Attempting uninstall: pydantic-core\n",
      "    Found existing installation: pydantic_core 2.23.4\n",
      "    Uninstalling pydantic_core-2.23.4:\n",
      "      Successfully uninstalled pydantic_core-2.23.4\n",
      "  Attempting uninstall: pydantic\n",
      "    Found existing installation: pydantic 2.9.2\n",
      "    Uninstalling pydantic-2.9.2:\n",
      "      Successfully uninstalled pydantic-2.9.2\n",
      "  Attempting uninstall: langchain-core\n",
      "    Found existing installation: langchain-core 0.3.10\n",
      "    Uninstalling langchain-core-0.3.10:\n",
      "      Successfully uninstalled langchain-core-0.3.10\n",
      "  Attempting uninstall: langchain-text-splitters\n",
      "    Found existing installation: langchain-text-splitters 0.3.0\n",
      "    Uninstalling langchain-text-splitters-0.3.0:\n",
      "      Successfully uninstalled langchain-text-splitters-0.3.0\n",
      "  Attempting uninstall: langchain-mistralai\n",
      "    Found existing installation: langchain-mistralai 0.1.12\n",
      "    Uninstalling langchain-mistralai-0.1.12:\n",
      "      Successfully uninstalled langchain-mistralai-0.1.12\n",
      "  Attempting uninstall: langchain\n",
      "    Found existing installation: langchain 0.3.3\n",
      "    Uninstalling langchain-0.3.3:\n",
      "      Successfully uninstalled langchain-0.3.3\n",
      "  Attempting uninstall: langchain-community\n",
      "    Found existing installation: langchain-community 0.3.2\n",
      "    Uninstalling langchain-community-0.3.2:\n",
      "      Successfully uninstalled langchain-community-0.3.2\n",
      "\u001b[31mERROR: pip's dependency resolver does not currently take into account all the packages that are installed. This behaviour is the source of the following dependency conflicts.\n",
      "langchain-chroma 0.1.2 requires langchain-core<0.3,>=0.1.40, but you have langchain-core 0.3.40 which is incompatible.\n",
      "langchain-ollama 0.1.1 requires langchain-core<0.3.0,>=0.2.20, but you have langchain-core 0.3.40 which is incompatible.\n",
      "langchain-experimental 0.0.64 requires langchain-community<0.3.0,>=0.2.10, but you have langchain-community 0.3.18 which is incompatible.\n",
      "langchain-experimental 0.0.64 requires langchain-core<0.3.0,>=0.2.27, but you have langchain-core 0.3.40 which is incompatible.\n",
      "langchain-huggingface 0.0.3 requires langchain-core<0.3,>=0.1.52, but you have langchain-core 0.3.40 which is incompatible.\u001b[0m\u001b[31m\n",
      "\u001b[0mSuccessfully installed langchain-0.3.19 langchain-community-0.3.18 langchain-core-0.2.40 langchain-mistralai-0.2.7 langchain-text-splitters-0.3.6 pydantic-2.10.6 pydantic-core-2.27.2 typing-extensions-4.12.2\n",
      "Note: you may need to restart the kernel to use updated packages.\n"
     ]
    }
   ],
   "source": [
    "pip install --upgrade langchain langchain-core langchain-community langchain-mistralai pydantic"
   ]
  },
  {
   "cell_type": "code",
   "execution_count": 29,
   "id": "f998b656-ecac-4cf5-8ba3-96f0599fb556",
   "metadata": {},
   "outputs": [],
   "source": [
    "import getpass\n",
    "import os\n",
    "\n",
    "os.environ[\"LANGSMITH_TRACING\"] = \"true\"\n",
    "os.environ[\"LANGSMITH_API_KEY\"] = \"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\""
   ]
  },
  {
   "cell_type": "code",
   "execution_count": 17,
   "id": "0f140fa6-2e5e-4da6-bc64-5727dc2b753c",
   "metadata": {},
   "outputs": [
    {
     "name": "stdout",
     "output_type": "stream",
     "text": [
      "68\n"
     ]
    }
   ],
   "source": [
    "from langchain_community.document_loaders import PyPDFLoader\n",
    "\n",
    "file_path = \"Sample HI Policy.pdf\"\n",
    "loader = PyPDFLoader(file_path)\n",
    "\n",
    "docs = loader.load()\n",
    "\n",
    "print(len(docs))"
   ]
  },
  {
   "cell_type": "code",
   "execution_count": 18,
   "id": "008cde45-6d4b-4b2e-8d30-7777f5473412",
   "metadata": {},
   "outputs": [
    {
     "name": "stdout",
     "output_type": "stream",
     "text": [
      "Date: 13/01/2025\n",
      "Policy Number: 33033225202502\n",
      "Customer ID: 2002528737\n",
      "MR. LOKU HEMANTH\n",
      "1-59 NARSIMHA SAGAR MULUGU TELANGANA,\n",
      "506172,\n",
      "WARANGAL,\n",
      "TELANGANA  -506172\n",
      "Mobile: XXXXXX4777\n",
      "  \n",
      "Product Name: ReAssure | Product UIN: NBHHLIP25037V032425Subject :  Niva Bupa Health Insurance Policy No.   33033225202502\n",
      "Dear MR. LOKU HEMANTH,\n",
      "Thank you for renewing your Niva Bupa health insurance policy. At Niva Bupa, we put your health first and are committed to provide you access to \n",
      "the very best of health \n",
      "\n",
      "{'producer': 'PyPDF', 'creator': 'HP Exstream Version 9.0.104 64-bit (DBCS)', 'creationdate': '1/13/2025 06:34:17', 'author': 'Registered to: MAXBUPA', 'title': 'FPPACK_B_PA', 'source': 'Sample HI Policy.pdf', 'total_pages': 68, 'page': 0, 'page_label': '1'}\n"
     ]
    }
   ],
   "source": [
    "print(f\"{docs[0].page_content[:500]} \\n\")\n",
    "print(docs[0].metadata)"
   ]
  },
  {
   "cell_type": "code",
   "execution_count": 19,
   "id": "baf1ae9b-733d-4571-bea4-d8b0ccfc833f",
   "metadata": {},
   "outputs": [
    {
     "data": {
      "text/plain": [
       "231"
      ]
     },
     "execution_count": 19,
     "metadata": {},
     "output_type": "execute_result"
    }
   ],
   "source": [
    "from langchain_text_splitters import RecursiveCharacterTextSplitter\n",
    "\n",
    "text_splitter = RecursiveCharacterTextSplitter(\n",
    "    chunk_size=1000, chunk_overlap=200, add_start_index=True\n",
    ")\n",
    "all_splits = text_splitter.split_documents(docs)\n",
    "\n",
    "len(all_splits)"
   ]
  },
  {
   "cell_type": "code",
   "execution_count": 20,
   "id": "c0a1fbdf-b628-48ca-bf08-4a070400a040",
   "metadata": {},
   "outputs": [
    {
     "data": {
      "text/plain": [
       "Document(metadata={'producer': 'PyPDF', 'creator': 'HP Exstream Version 9.0.104 64-bit (DBCS)', 'creationdate': '1/13/2025 06:34:17', 'author': 'Registered to: MAXBUPA', 'title': 'FPPACK_B_PA', 'source': 'Sample HI Policy.pdf', 'total_pages': 68, 'page': 2, 'page_label': '3', 'start_index': 806}, page_content='Accident opted\\nMr. Hemanth  Loku 12,50,000 1,37,750 12,50,000 26,37,750 0.00  0\\n.\\x01\\nPremium Details \\nNet\\nPremium/Taxable\\nValue (Rs.)Integrated\\nGoods and\\nService Tax\\n(18.00%)Central Goods and\\nService Tax (0.00\\n%)State/UT Goods and\\nService Tax (0.00 %)Gross Premium (Rs.) Gross Premium (Rs.)\\n(in words)\\n10,868.00 1,956.24 0.00 0.00 12,824.00 Twelve Thousand Eight Hundred\\nTwenty-Four Only\\nNominee Details\\nNominee Name Relationship with the Policyholder\\nLoku   Satyam Father\\nIntermediary Details\\n Intermediary Name Intermediary Code Intermediary Contact No.\\nBank Of Baroda BNK0060001 02267592513\\nClaim Administrator Servicing Branch Details\\nNiva Bupa Health Insurance Company Limited Logix Infotech Park , Plot no D-5, Sector 59, Noida, Gautam Budh Nagar, Uttar Pradesh\\n201301\\nOptional Benefit/Feature Details\\nParticulars Details\\nPersonal Accident Cover Not opted\\nSafeguard Not opted\\nSafeguard+ Yes\\nHospital Cash Not opted')"
      ]
     },
     "execution_count": 20,
     "metadata": {},
     "output_type": "execute_result"
    }
   ],
   "source": [
    "all_splits[5]"
   ]
  },
  {
   "cell_type": "code",
   "execution_count": 37,
   "id": "ca506527-58f9-4436-bdce-12020cca2f3d",
   "metadata": {},
   "outputs": [
    {
     "name": "stdout",
     "output_type": "stream",
     "text": [
      "Note: you may need to restart the kernel to use updated packages.\n"
     ]
    }
   ],
   "source": [
    "pip install -qU \"langchain[groq]\""
   ]
  },
  {
   "cell_type": "code",
   "execution_count": 38,
   "id": "7cb8845a-ef00-4442-9bd3-30f4f8bf3ba6",
   "metadata": {},
   "outputs": [
    {
     "name": "stdin",
     "output_type": "stream",
     "text": [
      "Enter API key for Groq:  ········\n"
     ]
    }
   ],
   "source": [
    "import getpass\n",
    "import os\n",
    "\n",
    "if not os.environ.get(\"GROQ_API_KEY\"):\n",
    "  os.environ[\"GROQ_API_KEY\"] = getpass.getpass(\"Enter API key for Groq: \")\n",
    "\n",
    "from langchain.chat_models import init_chat_model\n",
    "\n",
    "llm = init_chat_model(\"llama3-8b-8192\", model_provider=\"groq\")\n"
   ]
  },
  {
   "cell_type": "code",
   "execution_count": 43,
   "id": "59376825-a043-496d-b027-fd877778d686",
   "metadata": {
    "scrolled": true
   },
   "outputs": [
    {
     "name": "stdin",
     "output_type": "stream",
     "text": [
      "Enter API key for MistralAI:  ········\n"
     ]
    },
    {
     "name": "stderr",
     "output_type": "stream",
     "text": [
      "/Applications/anaconda3/envs/misenv/lib/python3.12/site-packages/langchain_mistralai/embeddings.py:181: UserWarning: Could not download mistral tokenizer from Huggingface for calculating batch sizes. Set a Huggingface token via the HF_TOKEN environment variable to download the real tokenizer. Falling back to a dummy tokenizer that uses `len()`.\n",
      "  warnings.warn(\n"
     ]
    }
   ],
   "source": [
    "import getpass\n",
    "import os\n",
    "\n",
    "if not os.environ.get(\"MISTRALAI_API_KEY\"):\n",
    "  os.environ[\"MISTRALAI_API_KEY\"] = getpass.getpass(\"Enter API key for MistralAI: \")\n",
    "\n",
    "from langchain_mistralai import MistralAIEmbeddings\n",
    "\n",
    "embeddings = MistralAIEmbeddings(model=\"mistral-embed\")"
   ]
  },
  {
   "cell_type": "code",
   "execution_count": 45,
   "id": "812dd4f0-6f1b-4d9d-a0b5-5c9ef9e2b1bb",
   "metadata": {
    "scrolled": true
   },
   "outputs": [],
   "source": [
    "from langchain_mistralai import MistralAIEmbeddings\n",
    "\n",
    "embeddings = MistralAIEmbeddings(model=\"mistral-embed\",api_key=\"2vR7N6623ZXQ4xF73HChYcYNL61zh5Qc\")"
   ]
  },
  {
   "cell_type": "code",
   "execution_count": 22,
   "id": "d8aaa73c-34ef-4e1e-a40e-baf302bae51a",
   "metadata": {},
   "outputs": [
    {
     "name": "stdout",
     "output_type": "stream",
     "text": [
      "None\n"
     ]
    }
   ],
   "source": [
    "import os\n",
    "g1=os.environ.get(\"GROQ_API_KEY\")\n",
    "print(g1)"
   ]
  },
  {
   "cell_type": "code",
   "execution_count": 46,
   "id": "0228151e-d5b2-4204-943a-d23eac7e41fe",
   "metadata": {},
   "outputs": [
    {
     "name": "stdout",
     "output_type": "stream",
     "text": [
      "Generated vectors of length 1024\n",
      "\n",
      "[-0.033203125, 0.02532958984375, 0.0572509765625, -0.028045654296875, 0.040252685546875, 0.038848876953125, 0.049224853515625, -0.0128173828125, 0.004352569580078125, 0.0023441314697265625]\n"
     ]
    }
   ],
   "source": [
    "vector_1 = embeddings.embed_query(all_splits[0].page_content)\n",
    "vector_2 = embeddings.embed_query(all_splits[1].page_content)\n",
    "\n",
    "assert len(vector_1) == len(vector_2)\n",
    "print(f\"Generated vectors of length {len(vector_1)}\\n\")\n",
    "print(vector_1[:10])"
   ]
  },
  {
   "cell_type": "code",
   "execution_count": 10,
   "id": "58521c9b-8d8a-4bee-b473-9cc30155f056",
   "metadata": {},
   "outputs": [
    {
     "name": "stdout",
     "output_type": "stream",
     "text": [
      "\u001b[31mERROR: pip's dependency resolver does not currently take into account all the packages that are installed. This behaviour is the source of the following dependency conflicts.\n",
      "langchain-chroma 0.1.2 requires langchain-core<0.3,>=0.1.40, but you have langchain-core 0.3.40 which is incompatible.\n",
      "langchain-ollama 0.1.1 requires langchain-core<0.3.0,>=0.2.20, but you have langchain-core 0.3.40 which is incompatible.\n",
      "langchain-experimental 0.0.64 requires langchain-community<0.3.0,>=0.2.10, but you have langchain-community 0.3.18 which is incompatible.\n",
      "langchain-experimental 0.0.64 requires langchain-core<0.3.0,>=0.2.27, but you have langchain-core 0.3.40 which is incompatible.\n",
      "langchain-huggingface 0.0.3 requires langchain-core<0.3,>=0.1.52, but you have langchain-core 0.3.40 which is incompatible.\u001b[0m\u001b[31m\n",
      "\u001b[0mNote: you may need to restart the kernel to use updated packages.\n"
     ]
    }
   ],
   "source": [
    "pip install -qU langchain-core"
   ]
  },
  {
   "cell_type": "code",
   "execution_count": 24,
   "id": "767b3aea-2d83-43b5-a9c3-264f0b402381",
   "metadata": {},
   "outputs": [],
   "source": [
    "from langchain_core.vectorstores import InMemoryVectorStore\n",
    "\n",
    "vector_store = InMemoryVectorStore(embeddings)"
   ]
  },
  {
   "cell_type": "code",
   "execution_count": 25,
   "id": "fe5eabea-b5e0-4cdc-a1d0-8851d1e7e37d",
   "metadata": {},
   "outputs": [],
   "source": [
    "ids = vector_store.add_documents(documents=all_splits)"
   ]
  },
  {
   "cell_type": "code",
   "execution_count": 26,
   "id": "2798dff7-2b49-471c-8a11-249bd2318604",
   "metadata": {},
   "outputs": [
    {
     "name": "stdout",
     "output_type": "stream",
     "text": [
      "page_content='d. The insured person is in India and the treatment is required in India only and not overseas in any condition \n",
      "whatsoever.  \n",
      "e. The air ambulance provider is registered in India.  \n",
      "f. We will cover expen ses up to the amount specified in the Policy Schedule  for transportation of the Insured \n",
      "Person under this benefit.  \n",
      " \n",
      "What is not covered:  \n",
      "a. Expenses incurred in return transportation to Insured Person’s home by air ambulance is excluded.  \n",
      " \n",
      "4.11 Home Care treatment  \n",
      " \n",
      "What is covered:  \n",
      "We will indemnify the Medical Expenses incurred on the Insured Person’s treatment taken at home for \n",
      "Chemotherapy or Dialysis.  \n",
      " \n",
      "Conditions - The above coverage is subject to fulfilment of following conditions : \n",
      "a. These services shall be offered by a registered homecare provider.  \n",
      " \n",
      "What is not covered:  \n",
      "a. Treatment taken by automation machine for peritoneal dialysis.  \n",
      "b. Sections 4.6 (Pre-hospitalization Medical Expenses) and Section 4.7 (Post - hospitalization Medical Exp enses)' metadata={'producer': 'PyPDF', 'creator': 'HP Exstream Version 9.0.104 64-bit (DBCS)', 'creationdate': '1/13/2025 06:34:17', 'author': 'Registered to: MAXBUPA', 'title': 'FPPACK_B_PA', 'source': 'Sample HI Policy.pdf', 'total_pages': 68, 'page': 33, 'page_label': '34', 'start_index': 827}\n"
     ]
    }
   ],
   "source": [
    "results = vector_store.similarity_search(\n",
    "    \"Are treatments taken outside India covered?\"\n",
    ")\n",
    "\n",
    "print(results[0])"
   ]
  },
  {
   "cell_type": "code",
   "execution_count": 27,
   "id": "daf2b746-38ef-4c4d-92e4-77c8fb860d08",
   "metadata": {},
   "outputs": [
    {
     "name": "stdout",
     "output_type": "stream",
     "text": [
      "page_content='POLICY SERVICING\n",
      "CLAIM SERVICING\n",
      "GRIEVANCE HANDLINGPost Policy issue service requests –from the date of receipt of service \n",
      "request7Days\n",
      "Proposal refund in case of cancellation –from the date of decision of the \n",
      "proposal7 Days\n",
      "Settlement of Claims -From the date of submission of claim 15 Days\n",
      "Acknowledge a grievance –from the date of receipt of grievance Immediately\n",
      "Resolve a grievance –from the date of receipt of grievance 14 Days\n",
      "Turnaround Time*\n",
      "(Calendar Days)\n",
      "Turnaround Time*\n",
      "(Calendar Days)\n",
      "Turnaround Time*\n",
      "(Calendar Days)\n",
      "*Turnaround time will start from the date of receipt of complete documents at Niva Bupa Health Insurance Company Ltd.' metadata={'producer': 'PyPDF', 'creator': 'HP Exstream Version 9.0.104 64-bit (DBCS)', 'creationdate': '1/13/2025 06:34:17', 'author': 'Registered to: MAXBUPA', 'title': 'FPPACK_B_PA', 'source': 'Sample HI Policy.pdf', 'total_pages': 68, 'page': 1, 'page_label': '2', 'start_index': 0}\n"
     ]
    }
   ],
   "source": [
    "results = await vector_store.asimilarity_search(\"How many days does it take to resolve a grievance?\")\n",
    "\n",
    "print(results[0])"
   ]
  },
  {
   "cell_type": "code",
   "execution_count": 30,
   "id": "443e61df-aa64-4f83-a532-2ad2cb9274ce",
   "metadata": {},
   "outputs": [
    {
     "name": "stderr",
     "output_type": "stream",
     "text": [
      "/Applications/anaconda3/envs/misenv/lib/python3.12/site-packages/langsmith/client.py:323: LangSmithMissingAPIKeyWarning: API key must be provided when using hosted LangSmith API\n",
      "  warnings.warn(\n"
     ]
    },
    {
     "name": "stdout",
     "output_type": "stream",
     "text": [
      "You are an assistant for question-answering tasks. Use the following pieces of retrieved context to answer the question. If you don't know the answer, just say that you don't know. Use three sentences maximum and keep the answer concise.\n",
      "Question: (question goes here) \n",
      "Context: (context goes here) \n",
      "Answer:\n"
     ]
    }
   ],
   "source": [
    "from langchain import hub\n",
    "\n",
    "prompt = hub.pull(\"rlm/rag-prompt\")\n",
    "\n",
    "example_messages = prompt.invoke(\n",
    "    {\"context\": \"(context goes here)\", \"question\": \"(question goes here)\"}\n",
    ").to_messages()\n",
    "\n",
    "assert len(example_messages) == 1\n",
    "print(example_messages[0].content)"
   ]
  },
  {
   "cell_type": "code",
   "execution_count": 50,
   "id": "db5cf6fe-c977-41ef-b41d-04358ba7c655",
   "metadata": {},
   "outputs": [],
   "source": [
    "from langchain_core.prompts import PromptTemplate\n",
    "\n",
    "template = \"\"\"Use the following pieces of context to answer the question at the end.\n",
    "If you don't know the answer, just say that you don't know, don't try to make up an answer.\n",
    "Use three sentences maximum and keep the answer as concise as possible.\n",
    "Always say \"thanks for asking!\" at the end of the answer.\n",
    "\n",
    "{context}\n",
    "\n",
    "Question: {question}\n",
    "\n",
    "Helpful Answer:\"\"\"\n",
    "custom_rag_prompt = PromptTemplate.from_template(template)"
   ]
  },
  {
   "cell_type": "code",
   "execution_count": 31,
   "id": "30f44c36-44da-4284-a57f-14adb3c4afbe",
   "metadata": {},
   "outputs": [],
   "source": [
    "from langchain_core.documents import Document\n",
    "from typing_extensions import List, TypedDict\n",
    "\n",
    "\n",
    "class State(TypedDict):\n",
    "    question: str\n",
    "    context: List[Document]\n",
    "    answer: str"
   ]
  },
  {
   "cell_type": "code",
   "execution_count": 51,
   "id": "d4df37ab-7e3f-475a-a693-144599c8a5fd",
   "metadata": {},
   "outputs": [],
   "source": [
    "def retrieve(state: State):\n",
    "    retrieved_docs = vector_store.similarity_search(state[\"question\"])\n",
    "    return {\"context\": retrieved_docs}\n",
    "\n",
    "\n",
    "def generate(state: State):\n",
    "    docs_content = \"\\n\\n\".join(doc.page_content for doc in state[\"context\"])\n",
    "    messages = prompt.invoke({\"question\": state[\"question\"], \"context\": docs_content})\n",
    "    response = llm.invoke(messages)\n",
    "    return {\"answer\": response.content}\n",
    "\n",
    "def generate1(state: State):\n",
    "    docs_content = \"\\n\\n\".join(doc.page_content for doc in state[\"context\"])\n",
    "    messages = custom_rag_prompt.invoke({\"question\": state[\"question\"], \"context\": docs_content})\n",
    "    response = llm.invoke(messages)\n",
    "    return {\"answer\": response.content}"
   ]
  },
  {
   "cell_type": "code",
   "execution_count": 53,
   "id": "bc01aa19-7a2c-4770-84ba-f8450c28a875",
   "metadata": {},
   "outputs": [],
   "source": [
    "from langgraph.graph import START, StateGraph\n",
    "\n",
    "# Create the graph\n",
    "graph_builder = StateGraph(State)\n",
    "graph_builder1 = StateGraph(State)\n",
    "\n",
    "# Add your nodes\n",
    "graph_builder.add_node(\"retrieve\", retrieve)\n",
    "graph_builder.add_node(\"generate\", generate)\n",
    "graph_builder1.add_node(\"retrieve\", retrieve)\n",
    "graph_builder1.add_node(\"generate1\", generate1)\n",
    "\n",
    "# Add your edges\n",
    "graph_builder.add_edge(START, \"retrieve\")\n",
    "graph_builder.add_edge(\"retrieve\", \"generate\")\n",
    "graph_builder1.add_edge(START, \"retrieve\")\n",
    "graph_builder1.add_edge(\"retrieve\", \"generate1\")\n",
    "\n",
    "# Compile the graph\n",
    "graph = graph_builder.compile()\n",
    "graph1 = graph_builder1.compile()"
   ]
  },
  {
   "cell_type": "code",
   "execution_count": 56,
   "id": "820ae0f2-3db5-481e-9d5f-f98a8a8762d9",
   "metadata": {},
   "outputs": [
    {
     "data": {
      "image/png": "[encoded data removed]",
      "text/plain": [
       "<IPython.core.display.Image object>"
      ]
     },
     "metadata": {},
     "output_type": "display_data"
    }
   ],
   "source": [
    "from IPython.display import Image, display\n",
    "\n",
    "display(Image(graph.get_graph().draw_mermaid_png()))"
   ]
  },
  {
   "cell_type": "code",
   "execution_count": 57,
   "id": "e467dea4-f8fe-4869-87b9-3bb023b86e31",
   "metadata": {},
   "outputs": [
    {
     "data": {
      "image/png": "[encoded data removed]",
      "text/plain": [
       "<IPython.core.display.Image object>"
      ]
     },
     "metadata": {},
     "output_type": "display_data"
    }
   ],
   "source": [
    "from IPython.display import Image, display\n",
    "\n",
    "display(Image(graph1.get_graph().draw_mermaid_png()))"
   ]
  },
  {
   "cell_type": "code",
   "execution_count": 42,
   "id": "3a6f7c94-c8ba-48ea-bc90-f32bb007c688",
   "metadata": {},
   "outputs": [
    {
     "name": "stdout",
     "output_type": "stream",
     "text": [
      "Context: [Document(id='72da1707-8d4f-4f0a-bc76-24eb96a55966', metadata={'producer': 'PyPDF', 'creator': 'HP Exstream Version 9.0.104 64-bit (DBCS)', 'creationdate': '1/13/2025 06:34:17', 'author': 'Registered to: MAXBUPA', 'title': 'FPPACK_B_PA', 'source': 'Sample HI Policy.pdf', 'total_pages': 68, 'page': 34, 'page_label': '35', 'start_index': 3010}, page_content='4.14 Shared accommodation Cash Benefit  \\n \\nWhat is covered:  \\nIf We have accepted an Inpatient Care Hospitalization claim and the Insured Person has occupied a shared  room \\naccommodation during such Hospitalization in a Network Hospital, We will pay a daily cash amount as specified \\nin the Policy Schedule for the Insured Person for each continuous and completed period of 24 hours of \\nHospitalization.  \\n \\nConditions - The abo ve coverage is subject to fulfilment of following conditions : \\na. The Insured Person has been admitted in a Hospital for a minimum period of 48 hours continuously.  \\n \\nWhat is not covered:  \\na. This benefit will not be payable if the Insured Person stays in an Intensive Care Unit or High Dependency \\nUnits / wards.  \\n \\n4.15 Health Checkup'), Document(id='f8f7883d-350e-4203-b007-48597519f486', metadata={'producer': 'PyPDF', 'creator': 'HP Exstream Version 9.0.104 64-bit (DBCS)', 'creationdate': '1/13/2025 06:34:17', 'author': 'Registered to: MAXBUPA', 'title': 'FPPACK_B_PA', 'source': 'Sample HI Policy.pdf', 'total_pages': 68, 'page': 61, 'page_label': '62', 'start_index': 0}, page_content='Policy Document  \\nProduct Name: ReAssure| Product UIN: NBHHLIP25037V032425   \\nList II – Items that are to be subsumed into Room Charges  \\n 48 NIMBUS BED OR WATER OR AIR BED CHARGES  \\n49 AMBULANCE COLLAR  \\n50 AMBULANCE EQUIPMENT  \\n51 ABDOMINAL BINDER  \\n52 PRIVATE NURSES CHARGES - SPECIAL NURSING CHARGES  \\n53  SUGAR FREE Tablets  \\n54 CREAMS POWDERS LOTIONS (Toiletries are not payable, only prescribed medical \\npharmaceuticals payable)  \\n55 ECG ELECTRODES  \\n56 GLOVES  \\n57 NEBULISATION KIT  \\n58 ANY KIT WITH NO DETAILS MENTIONED [DELIVERY KIT, ORTHOKIT, RECOVERY KIT, ETC]  \\n59 KIDNEY TRAY  \\n60 MASK  \\n61 OUNCE GLASS  \\n62 OXYGEN MASK  \\n63 PELVIC TRACTION BELT  \\n64 PAN CAN  \\n65 TROLLY COVER  \\n66 UROMETER, URINE JUG  \\n67 AMBULANCE  \\n68 VASOFIX SAFETY  \\nSl. No. Item  \\n1 BABY CHARGES (UNLESS SPECIFIED/INDICATED)  \\n2 HAND WASH  \\n3 SHOE COVER  \\n4 CAPS  \\n5 CRADLE CHARGES  \\n6 COMB  \\n7 EAU -DE-COLOGNE / ROOM FRESHNERS  \\n8 FOOT COVER  \\n9 GOWN  \\n10 SLIPPERS  \\n11 TISSUE PAPER  \\n12 TOOTH PASTE'), Document(id='7ccc7117-88bc-4617-85d2-0ca02ec0c9ea', metadata={'producer': 'PyPDF', 'creator': 'HP Exstream Version 9.0.104 64-bit (DBCS)', 'creationdate': '1/13/2025 06:34:17', 'author': 'Registered to: MAXBUPA', 'title': 'FPPACK_B_PA', 'source': 'Sample HI Policy.pdf', 'total_pages': 68, 'page': 39, 'page_label': '40', 'start_index': 0}, page_content='Policy Document  \\nProduct Name: ReAssure| Product UIN: NBHHLIP25037V032425  5. Mobility: the ability to move indoors from room to room on level surfaces at the normal place of \\nresidence.  \\n6. Transferring: the ability to move from a lying po sition in a bed to a sitting position in an upright chair or \\nwheel chair and vice versa.  \\n \\nConditions - The above coverage is subject to fulfilment of following conditions:  \\na. The Permanent Total Disability is proved through a disability certificate issued by a Medical Board duly \\nconstituted by the Central and/or the State Government; and  \\nb. We will admit a claim under this optional benefit only if the Permanent Total Disability c ontinues for a \\nperiod of at least 6 continuous calendar months from the commencement of the Permanent Total Disability \\nunless it is irreversible, such as in case of amputation/loss of limbs etc; and  \\nc. If the Insured Person dies before a claim has been admit ted under this optional benefit, no amount will be'), Document(id='ca0392ba-e9d2-45bd-b320-4936c9f9a7a7', metadata={'producer': 'PyPDF', 'creator': 'HP Exstream Version 9.0.104 64-bit (DBCS)', 'creationdate': '1/13/2025 06:34:17', 'author': 'Registered to: MAXBUPA', 'title': 'FPPACK_B_PA', 'source': 'Sample HI Policy.pdf', 'total_pages': 68, 'page': 38, 'page_label': '39', 'start_index': 0}, page_content='Policy Document  \\nProduct Name: ReAssure| Product UIN: NBHHLIP25037V032425  5. Optional Benefits  \\n \\nThe following optional benefits shall apply  under the Policy  only if it is specified in the Policy Schedule . Optional \\nbenefits can be selected by You only at the time of issuance of the First Policy or at Renewal , unless specified \\notherwise,  on payment of the corresponding additional premium.  \\n \\nThe optional benefits ‘ Personal Accident Cover’  and ‘Hospital Cash’  will be payable (only on Reimbursement  \\nbasis) if the conditions mentioned in the below sections are contracted or sustained by the Insured Person \\ncovered under these optional benefits during the Policy Period.  \\n \\nThe applicable optional benefits will be payable subject to the terms, conditions and exclusions of this Policy and \\nsubject always to any sub -limits for the optional benefit as specified in Your Policy Schedule .')]\n",
      "\n",
      "\n",
      "Answer: No, there is no option for room type modification under this policy. The policy only provides a daily cash amount for shared accommodation during hospitalization and does not allow for changes to the type of room.\n"
     ]
    }
   ],
   "source": [
    "result = graph.invoke({\"question\": \"Is there an option for room type modification under this policy?\"})\n",
    "\n",
    "print(f'Context: {result[\"context\"]}\\n\\n')\n",
    "print(f'Answer: {result[\"answer\"]}')"
   ]
  },
  {
   "cell_type": "code",
   "execution_count": 58,
   "id": "4f9bfdab-f6fc-4be7-9fff-d03582900751",
   "metadata": {},
   "outputs": [
    {
     "name": "stdout",
     "output_type": "stream",
     "text": [
      "Context: [Document(id='72da1707-8d4f-4f0a-bc76-24eb96a55966', metadata={'producer': 'PyPDF', 'creator': 'HP Exstream Version 9.0.104 64-bit (DBCS)', 'creationdate': '1/13/2025 06:34:17', 'author': 'Registered to: MAXBUPA', 'title': 'FPPACK_B_PA', 'source': 'Sample HI Policy.pdf', 'total_pages': 68, 'page': 34, 'page_label': '35', 'start_index': 3010}, page_content='4.14 Shared accommodation Cash Benefit  \\n \\nWhat is covered:  \\nIf We have accepted an Inpatient Care Hospitalization claim and the Insured Person has occupied a shared  room \\naccommodation during such Hospitalization in a Network Hospital, We will pay a daily cash amount as specified \\nin the Policy Schedule for the Insured Person for each continuous and completed period of 24 hours of \\nHospitalization.  \\n \\nConditions - The abo ve coverage is subject to fulfilment of following conditions : \\na. The Insured Person has been admitted in a Hospital for a minimum period of 48 hours continuously.  \\n \\nWhat is not covered:  \\na. This benefit will not be payable if the Insured Person stays in an Intensive Care Unit or High Dependency \\nUnits / wards.  \\n \\n4.15 Health Checkup'), Document(id='f8f7883d-350e-4203-b007-48597519f486', metadata={'producer': 'PyPDF', 'creator': 'HP Exstream Version 9.0.104 64-bit (DBCS)', 'creationdate': '1/13/2025 06:34:17', 'author': 'Registered to: MAXBUPA', 'title': 'FPPACK_B_PA', 'source': 'Sample HI Policy.pdf', 'total_pages': 68, 'page': 61, 'page_label': '62', 'start_index': 0}, page_content='Policy Document  \\nProduct Name: ReAssure| Product UIN: NBHHLIP25037V032425   \\nList II – Items that are to be subsumed into Room Charges  \\n 48 NIMBUS BED OR WATER OR AIR BED CHARGES  \\n49 AMBULANCE COLLAR  \\n50 AMBULANCE EQUIPMENT  \\n51 ABDOMINAL BINDER  \\n52 PRIVATE NURSES CHARGES - SPECIAL NURSING CHARGES  \\n53  SUGAR FREE Tablets  \\n54 CREAMS POWDERS LOTIONS (Toiletries are not payable, only prescribed medical \\npharmaceuticals payable)  \\n55 ECG ELECTRODES  \\n56 GLOVES  \\n57 NEBULISATION KIT  \\n58 ANY KIT WITH NO DETAILS MENTIONED [DELIVERY KIT, ORTHOKIT, RECOVERY KIT, ETC]  \\n59 KIDNEY TRAY  \\n60 MASK  \\n61 OUNCE GLASS  \\n62 OXYGEN MASK  \\n63 PELVIC TRACTION BELT  \\n64 PAN CAN  \\n65 TROLLY COVER  \\n66 UROMETER, URINE JUG  \\n67 AMBULANCE  \\n68 VASOFIX SAFETY  \\nSl. No. Item  \\n1 BABY CHARGES (UNLESS SPECIFIED/INDICATED)  \\n2 HAND WASH  \\n3 SHOE COVER  \\n4 CAPS  \\n5 CRADLE CHARGES  \\n6 COMB  \\n7 EAU -DE-COLOGNE / ROOM FRESHNERS  \\n8 FOOT COVER  \\n9 GOWN  \\n10 SLIPPERS  \\n11 TISSUE PAPER  \\n12 TOOTH PASTE'), Document(id='7ccc7117-88bc-4617-85d2-0ca02ec0c9ea', metadata={'producer': 'PyPDF', 'creator': 'HP Exstream Version 9.0.104 64-bit (DBCS)', 'creationdate': '1/13/2025 06:34:17', 'author': 'Registered to: MAXBUPA', 'title': 'FPPACK_B_PA', 'source': 'Sample HI Policy.pdf', 'total_pages': 68, 'page': 39, 'page_label': '40', 'start_index': 0}, page_content='Policy Document  \\nProduct Name: ReAssure| Product UIN: NBHHLIP25037V032425  5. Mobility: the ability to move indoors from room to room on level surfaces at the normal place of \\nresidence.  \\n6. Transferring: the ability to move from a lying po sition in a bed to a sitting position in an upright chair or \\nwheel chair and vice versa.  \\n \\nConditions - The above coverage is subject to fulfilment of following conditions:  \\na. The Permanent Total Disability is proved through a disability certificate issued by a Medical Board duly \\nconstituted by the Central and/or the State Government; and  \\nb. We will admit a claim under this optional benefit only if the Permanent Total Disability c ontinues for a \\nperiod of at least 6 continuous calendar months from the commencement of the Permanent Total Disability \\nunless it is irreversible, such as in case of amputation/loss of limbs etc; and  \\nc. If the Insured Person dies before a claim has been admit ted under this optional benefit, no amount will be'), Document(id='ca0392ba-e9d2-45bd-b320-4936c9f9a7a7', metadata={'producer': 'PyPDF', 'creator': 'HP Exstream Version 9.0.104 64-bit (DBCS)', 'creationdate': '1/13/2025 06:34:17', 'author': 'Registered to: MAXBUPA', 'title': 'FPPACK_B_PA', 'source': 'Sample HI Policy.pdf', 'total_pages': 68, 'page': 38, 'page_label': '39', 'start_index': 0}, page_content='Policy Document  \\nProduct Name: ReAssure| Product UIN: NBHHLIP25037V032425  5. Optional Benefits  \\n \\nThe following optional benefits shall apply  under the Policy  only if it is specified in the Policy Schedule . Optional \\nbenefits can be selected by You only at the time of issuance of the First Policy or at Renewal , unless specified \\notherwise,  on payment of the corresponding additional premium.  \\n \\nThe optional benefits ‘ Personal Accident Cover’  and ‘Hospital Cash’  will be payable (only on Reimbursement  \\nbasis) if the conditions mentioned in the below sections are contracted or sustained by the Insured Person \\ncovered under these optional benefits during the Policy Period.  \\n \\nThe applicable optional benefits will be payable subject to the terms, conditions and exclusions of this Policy and \\nsubject always to any sub -limits for the optional benefit as specified in Your Policy Schedule .')]\n",
      "\n",
      "\n",
      "Answer: There is no option for room type modification under this policy. The policy specifically states that it will pay a daily cash amount for shared accommodation during hospitalization, but it does not mention any option to modify the room type.\n",
      "\n",
      "Thanks for asking!\n"
     ]
    }
   ],
   "source": [
    "result = graph1.invoke({\"question\": \"Is there an option for room type modification under this policy?\"})\n",
    "\n",
    "print(f'Context: {result[\"context\"]}\\n\\n')\n",
    "print(f'Answer: {result[\"answer\"]}')"
   ]
  },
  {
   "cell_type": "code",
   "execution_count": 47,
   "id": "eee63504-609c-4744-9081-3ed9b20ba57a",
   "metadata": {},
   "outputs": [
    {
     "name": "stdout",
     "output_type": "stream",
     "text": [
      "Context: [Document(id='0796df39-6921-47d0-bcb3-c13c92a8d51c', metadata={'producer': 'PyPDF', 'creator': 'HP Exstream Version 9.0.104 64-bit (DBCS)', 'creationdate': '1/13/2025 06:34:17', 'author': 'Registered to: MAXBUPA', 'title': 'FPPACK_B_PA', 'source': 'Sample HI Policy.pdf', 'total_pages': 68, 'page': 43, 'page_label': '44', 'start_index': 1619}, page_content='d. Coverage under the Policy after the expiry of 36 months for any Pre -existing Disease is subject to the same \\nbeing declared at the time of application and accepted by Us.  \\n \\n6.2 Specified disease/procedure waiting period - Code - Excl02  \\na. Expenses related to the treat ment of the listed conditions, surgeries/treatments shall be excluded until the \\nexpiry of 24 months of continuous coverage after the date of inception of the first Policy. This exclusion shall \\nnot be applicable for claims arising due to an Accident (covere d from day 1) or Cancer (covered after 30 -\\ndays waiting period).  \\nb. In case of enhancement of Sum Insured the exclusion shall apply afresh to the extent of Sum Insured \\nincrease.  \\nc. If any of the specified disease/procedure falls under the waiting period specified  for pre -Existing diseases, \\nthen the longer of the two waiting periods shall apply.'), Document(id='68836f44-a921-4354-b628-3d3bdbb604d6', metadata={'producer': 'PyPDF', 'creator': 'HP Exstream Version 9.0.104 64-bit (DBCS)', 'creationdate': '1/13/2025 06:34:17', 'author': 'Registered to: MAXBUPA', 'title': 'FPPACK_B_PA', 'source': 'Sample HI Policy.pdf', 'total_pages': 68, 'page': 43, 'page_label': '44', 'start_index': 2327}, page_content='increase.  \\nc. If any of the specified disease/procedure falls under the waiting period specified  for pre -Existing diseases, \\nthen the longer of the two waiting periods shall apply.  \\nd. The waiting period for listed conditions shall apply even if contracted after the Policy or declared and \\naccepted without a specific exclusion.  \\ne. If the Insured Person is con tinuously covered without any break as defined under the applicable norms on \\nportability stipulated by IRDAI then waiting period for the same would be reduced to the extent of prior \\ncoverage.  \\nf. List of specific diseases/procedures:  \\na. Pancreatitis and stones in  biliary and urinary system  \\nb. Cataract, glaucoma and retinal detachment  \\nc. Hyperplasia of prostate, hydrocele and spermatocele  \\nd. Prolapse uterus or  cervix, endometriosis,  Fibroids, Polycystic ovarian disease (PCOD), hysterectomy \\n(unless necessitated by Maligna ncy) \\ne. Hemorrhoids, fissure, fistula or abscess of anal and rectal region'), Document(id='1cc605e4-74fe-429a-9951-5b77ae9c0520', metadata={'producer': 'PyPDF', 'creator': 'HP Exstream Version 9.0.104 64-bit (DBCS)', 'creationdate': '1/13/2025 06:34:17', 'author': 'Registered to: MAXBUPA', 'title': 'FPPACK_B_PA', 'source': 'Sample HI Policy.pdf', 'total_pages': 68, 'page': 55, 'page_label': '56', 'start_index': 1653}, page_content='Specific Waiting periods, waiting period for pre -existing diseases, Moratorium period etc. in the previous policy to the \\nmigrated p olicy.  \\n \\nThe insurer may underwrite the proposal in case of migration, if the insured is not continuously covered for 36 months.  \\n \\n \\n \\n8.15 Portability  \\n \\nA Policyholder has the choice to port his/ her policies from one Insurer to another irrespective of individual or group polic y \\nsubject to the Board approved underwriting policy of the insurers.  \\n \\nThe policyholder is entitled to transfer the credits gained to the extent of the Sum Insured, No Claim Bonus, specific waiting \\nperiods, waiting period for pre -existing disease , Moratorium period etc. from the Existing Insurer to the Acquiring Insurer \\nin the previous policy.   \\n \\nSpecific Terms and conditions  \\n \\n8.16 Renewal  Premium : \\nRenewal  premium will alter based on Age. The reference of age for calculating the premium for Family Floater'), Document(id='019b363b-77ff-4d02-b51f-00800243ed98', metadata={'producer': 'PyPDF', 'creator': 'HP Exstream Version 9.0.104 64-bit (DBCS)', 'creationdate': '1/13/2025 06:34:17', 'author': 'Registered to: MAXBUPA', 'title': 'FPPACK_B_PA', 'source': 'Sample HI Policy.pdf', 'total_pages': 68, 'page': 27, 'page_label': '28', 'start_index': 4131}, page_content='3.1.43  Specific Waiting period means  a period up to 36 months from the commencement of a health insurance policy \\nduring which period specified diseases/treatments (exc ept due to an accident) are not covered. On completion of \\nthe period, diseases/treatments shall be covered provided the policy has been continuously renewed without any \\nbreak  \\n3.1.44  Unproven /Experimental treatment means the treatment including drug experimental t herapy which is \\nnot based on established medical practice in India, is treatment experimental or unproven.  \\n \\n3.2 Specific Definitions')]\n",
      "\n",
      "\n",
      "Answer: The waiting period for pre-existing diseases is 36 months.\n"
     ]
    }
   ],
   "source": [
    "result = graph.invoke({\"question\": \"What is the waiting period for pre-existing diseases?\"})\n",
    "\n",
    "print(f'Context: {result[\"context\"]}\\n\\n')\n",
    "print(f'Answer: {result[\"answer\"]}')"
   ]
  },
  {
   "cell_type": "code",
   "execution_count": 60,
   "id": "64295b74-9361-420c-8a16-c7055c00251a",
   "metadata": {},
   "outputs": [
    {
     "name": "stdout",
     "output_type": "stream",
     "text": [
      "Context: [Document(id='0796df39-6921-47d0-bcb3-c13c92a8d51c', metadata={'producer': 'PyPDF', 'creator': 'HP Exstream Version 9.0.104 64-bit (DBCS)', 'creationdate': '1/13/2025 06:34:17', 'author': 'Registered to: MAXBUPA', 'title': 'FPPACK_B_PA', 'source': 'Sample HI Policy.pdf', 'total_pages': 68, 'page': 43, 'page_label': '44', 'start_index': 1619}, page_content='d. Coverage under the Policy after the expiry of 36 months for any Pre -existing Disease is subject to the same \\nbeing declared at the time of application and accepted by Us.  \\n \\n6.2 Specified disease/procedure waiting period - Code - Excl02  \\na. Expenses related to the treat ment of the listed conditions, surgeries/treatments shall be excluded until the \\nexpiry of 24 months of continuous coverage after the date of inception of the first Policy. This exclusion shall \\nnot be applicable for claims arising due to an Accident (covere d from day 1) or Cancer (covered after 30 -\\ndays waiting period).  \\nb. In case of enhancement of Sum Insured the exclusion shall apply afresh to the extent of Sum Insured \\nincrease.  \\nc. If any of the specified disease/procedure falls under the waiting period specified  for pre -Existing diseases, \\nthen the longer of the two waiting periods shall apply.'), Document(id='68836f44-a921-4354-b628-3d3bdbb604d6', metadata={'producer': 'PyPDF', 'creator': 'HP Exstream Version 9.0.104 64-bit (DBCS)', 'creationdate': '1/13/2025 06:34:17', 'author': 'Registered to: MAXBUPA', 'title': 'FPPACK_B_PA', 'source': 'Sample HI Policy.pdf', 'total_pages': 68, 'page': 43, 'page_label': '44', 'start_index': 2327}, page_content='increase.  \\nc. If any of the specified disease/procedure falls under the waiting period specified  for pre -Existing diseases, \\nthen the longer of the two waiting periods shall apply.  \\nd. The waiting period for listed conditions shall apply even if contracted after the Policy or declared and \\naccepted without a specific exclusion.  \\ne. If the Insured Person is con tinuously covered without any break as defined under the applicable norms on \\nportability stipulated by IRDAI then waiting period for the same would be reduced to the extent of prior \\ncoverage.  \\nf. List of specific diseases/procedures:  \\na. Pancreatitis and stones in  biliary and urinary system  \\nb. Cataract, glaucoma and retinal detachment  \\nc. Hyperplasia of prostate, hydrocele and spermatocele  \\nd. Prolapse uterus or  cervix, endometriosis,  Fibroids, Polycystic ovarian disease (PCOD), hysterectomy \\n(unless necessitated by Maligna ncy) \\ne. Hemorrhoids, fissure, fistula or abscess of anal and rectal region'), Document(id='1cc605e4-74fe-429a-9951-5b77ae9c0520', metadata={'producer': 'PyPDF', 'creator': 'HP Exstream Version 9.0.104 64-bit (DBCS)', 'creationdate': '1/13/2025 06:34:17', 'author': 'Registered to: MAXBUPA', 'title': 'FPPACK_B_PA', 'source': 'Sample HI Policy.pdf', 'total_pages': 68, 'page': 55, 'page_label': '56', 'start_index': 1653}, page_content='Specific Waiting periods, waiting period for pre -existing diseases, Moratorium period etc. in the previous policy to the \\nmigrated p olicy.  \\n \\nThe insurer may underwrite the proposal in case of migration, if the insured is not continuously covered for 36 months.  \\n \\n \\n \\n8.15 Portability  \\n \\nA Policyholder has the choice to port his/ her policies from one Insurer to another irrespective of individual or group polic y \\nsubject to the Board approved underwriting policy of the insurers.  \\n \\nThe policyholder is entitled to transfer the credits gained to the extent of the Sum Insured, No Claim Bonus, specific waiting \\nperiods, waiting period for pre -existing disease , Moratorium period etc. from the Existing Insurer to the Acquiring Insurer \\nin the previous policy.   \\n \\nSpecific Terms and conditions  \\n \\n8.16 Renewal  Premium : \\nRenewal  premium will alter based on Age. The reference of age for calculating the premium for Family Floater'), Document(id='019b363b-77ff-4d02-b51f-00800243ed98', metadata={'producer': 'PyPDF', 'creator': 'HP Exstream Version 9.0.104 64-bit (DBCS)', 'creationdate': '1/13/2025 06:34:17', 'author': 'Registered to: MAXBUPA', 'title': 'FPPACK_B_PA', 'source': 'Sample HI Policy.pdf', 'total_pages': 68, 'page': 27, 'page_label': '28', 'start_index': 4131}, page_content='3.1.43  Specific Waiting period means  a period up to 36 months from the commencement of a health insurance policy \\nduring which period specified diseases/treatments (exc ept due to an accident) are not covered. On completion of \\nthe period, diseases/treatments shall be covered provided the policy has been continuously renewed without any \\nbreak  \\n3.1.44  Unproven /Experimental treatment means the treatment including drug experimental t herapy which is \\nnot based on established medical practice in India, is treatment experimental or unproven.  \\n \\n3.2 Specific Definitions')]\n",
      "\n",
      "\n",
      "Answer: The waiting period for pre-existing diseases is 36 months. Thanks for asking!\n"
     ]
    }
   ],
   "source": [
    "result = graph1.invoke({\"question\": \"What is the waiting period for pre-existing diseases?\"})\n",
    "\n",
    "print(f'Context: {result[\"context\"]}\\n\\n')\n",
    "print(f'Answer: {result[\"answer\"]}')"
   ]
  },
  {
   "cell_type": "code",
   "execution_count": 48,
   "id": "34fc13cc-8305-403a-808c-12efe7eab572",
   "metadata": {},
   "outputs": [
    {
     "name": "stdout",
     "output_type": "stream",
     "text": [
      "{'retrieve': {'context': [Document(id='72da1707-8d4f-4f0a-bc76-24eb96a55966', metadata={'producer': 'PyPDF', 'creator': 'HP Exstream Version 9.0.104 64-bit (DBCS)', 'creationdate': '1/13/2025 06:34:17', 'author': 'Registered to: MAXBUPA', 'title': 'FPPACK_B_PA', 'source': 'Sample HI Policy.pdf', 'total_pages': 68, 'page': 34, 'page_label': '35', 'start_index': 3010}, page_content='4.14 Shared accommodation Cash Benefit  \\n \\nWhat is covered:  \\nIf We have accepted an Inpatient Care Hospitalization claim and the Insured Person has occupied a shared  room \\naccommodation during such Hospitalization in a Network Hospital, We will pay a daily cash amount as specified \\nin the Policy Schedule for the Insured Person for each continuous and completed period of 24 hours of \\nHospitalization.  \\n \\nConditions - The abo ve coverage is subject to fulfilment of following conditions : \\na. The Insured Person has been admitted in a Hospital for a minimum period of 48 hours continuously.  \\n \\nWhat is not covered:  \\na. This benefit will not be payable if the Insured Person stays in an Intensive Care Unit or High Dependency \\nUnits / wards.  \\n \\n4.15 Health Checkup'), Document(id='f8f7883d-350e-4203-b007-48597519f486', metadata={'producer': 'PyPDF', 'creator': 'HP Exstream Version 9.0.104 64-bit (DBCS)', 'creationdate': '1/13/2025 06:34:17', 'author': 'Registered to: MAXBUPA', 'title': 'FPPACK_B_PA', 'source': 'Sample HI Policy.pdf', 'total_pages': 68, 'page': 61, 'page_label': '62', 'start_index': 0}, page_content='Policy Document  \\nProduct Name: ReAssure| Product UIN: NBHHLIP25037V032425   \\nList II – Items that are to be subsumed into Room Charges  \\n 48 NIMBUS BED OR WATER OR AIR BED CHARGES  \\n49 AMBULANCE COLLAR  \\n50 AMBULANCE EQUIPMENT  \\n51 ABDOMINAL BINDER  \\n52 PRIVATE NURSES CHARGES - SPECIAL NURSING CHARGES  \\n53  SUGAR FREE Tablets  \\n54 CREAMS POWDERS LOTIONS (Toiletries are not payable, only prescribed medical \\npharmaceuticals payable)  \\n55 ECG ELECTRODES  \\n56 GLOVES  \\n57 NEBULISATION KIT  \\n58 ANY KIT WITH NO DETAILS MENTIONED [DELIVERY KIT, ORTHOKIT, RECOVERY KIT, ETC]  \\n59 KIDNEY TRAY  \\n60 MASK  \\n61 OUNCE GLASS  \\n62 OXYGEN MASK  \\n63 PELVIC TRACTION BELT  \\n64 PAN CAN  \\n65 TROLLY COVER  \\n66 UROMETER, URINE JUG  \\n67 AMBULANCE  \\n68 VASOFIX SAFETY  \\nSl. No. Item  \\n1 BABY CHARGES (UNLESS SPECIFIED/INDICATED)  \\n2 HAND WASH  \\n3 SHOE COVER  \\n4 CAPS  \\n5 CRADLE CHARGES  \\n6 COMB  \\n7 EAU -DE-COLOGNE / ROOM FRESHNERS  \\n8 FOOT COVER  \\n9 GOWN  \\n10 SLIPPERS  \\n11 TISSUE PAPER  \\n12 TOOTH PASTE'), Document(id='7ccc7117-88bc-4617-85d2-0ca02ec0c9ea', metadata={'producer': 'PyPDF', 'creator': 'HP Exstream Version 9.0.104 64-bit (DBCS)', 'creationdate': '1/13/2025 06:34:17', 'author': 'Registered to: MAXBUPA', 'title': 'FPPACK_B_PA', 'source': 'Sample HI Policy.pdf', 'total_pages': 68, 'page': 39, 'page_label': '40', 'start_index': 0}, page_content='Policy Document  \\nProduct Name: ReAssure| Product UIN: NBHHLIP25037V032425  5. Mobility: the ability to move indoors from room to room on level surfaces at the normal place of \\nresidence.  \\n6. Transferring: the ability to move from a lying po sition in a bed to a sitting position in an upright chair or \\nwheel chair and vice versa.  \\n \\nConditions - The above coverage is subject to fulfilment of following conditions:  \\na. The Permanent Total Disability is proved through a disability certificate issued by a Medical Board duly \\nconstituted by the Central and/or the State Government; and  \\nb. We will admit a claim under this optional benefit only if the Permanent Total Disability c ontinues for a \\nperiod of at least 6 continuous calendar months from the commencement of the Permanent Total Disability \\nunless it is irreversible, such as in case of amputation/loss of limbs etc; and  \\nc. If the Insured Person dies before a claim has been admit ted under this optional benefit, no amount will be'), Document(id='ca0392ba-e9d2-45bd-b320-4936c9f9a7a7', metadata={'producer': 'PyPDF', 'creator': 'HP Exstream Version 9.0.104 64-bit (DBCS)', 'creationdate': '1/13/2025 06:34:17', 'author': 'Registered to: MAXBUPA', 'title': 'FPPACK_B_PA', 'source': 'Sample HI Policy.pdf', 'total_pages': 68, 'page': 38, 'page_label': '39', 'start_index': 0}, page_content='Policy Document  \\nProduct Name: ReAssure| Product UIN: NBHHLIP25037V032425  5. Optional Benefits  \\n \\nThe following optional benefits shall apply  under the Policy  only if it is specified in the Policy Schedule . Optional \\nbenefits can be selected by You only at the time of issuance of the First Policy or at Renewal , unless specified \\notherwise,  on payment of the corresponding additional premium.  \\n \\nThe optional benefits ‘ Personal Accident Cover’  and ‘Hospital Cash’  will be payable (only on Reimbursement  \\nbasis) if the conditions mentioned in the below sections are contracted or sustained by the Insured Person \\ncovered under these optional benefits during the Policy Period.  \\n \\nThe applicable optional benefits will be payable subject to the terms, conditions and exclusions of this Policy and \\nsubject always to any sub -limits for the optional benefit as specified in Your Policy Schedule .')]}}\n",
      "\n",
      "----------------\n",
      "\n",
      "{'generate': {'answer': 'There is no option for room type modification under this policy. The policy only offers a daily cash amount for shared accommodation during hospitalization, and the type of room is not a modifiable factor.'}}\n",
      "\n",
      "----------------\n",
      "\n"
     ]
    }
   ],
   "source": [
    "for step in graph.stream(\n",
    "    {\"question\": \"Is there an option for room type modification under this policy?\"}, stream_mode=\"updates\"\n",
    "):\n",
    "    print(f\"{step}\\n\\n----------------\\n\")"
   ]
  },
  {
   "cell_type": "code",
   "execution_count": 49,
   "id": "cb1a02e7-91a8-443a-84d1-5f7282b4226e",
   "metadata": {},
   "outputs": [
    {
     "name": "stdout",
     "output_type": "stream",
     "text": [
      "|I| don|'t| know|.| There| is| no| information| provided| in| the| given| context| about| room| type| modification| under| this| policy|.||"
     ]
    }
   ],
   "source": [
    "for message,metadata in graph.stream(\n",
    "    {\"question\": \"Is there an option for room type modification under this policy?\"}, stream_mode=\"messages\"\n",
    "):\n",
    "    print(message.content, end=\"|\")"
   ]
  },
  {
   "cell_type": "code",
   "execution_count": null,
   "id": "ac1986a3-fdeb-4dc8-9f7e-e7c1db60f36e",
   "metadata": {},
   "outputs": [],
   "source": []
  }
 ],
 "metadata": {
  "kernelspec": {
   "display_name": "Python 3 (ipykernel)",
   "language": "python",
   "name": "python3"
  },
  "language_info": {
   "codemirror_mode": {
    "name": "ipython",
    "version": 3
   },
   "file_extension": ".py",
   "mimetype": "text/x-python",
   "name": "python",
   "nbconvert_exporter": "python",
   "pygments_lexer": "ipython3",
   "version": "3.12.4"
  }
 },
 "nbformat": 4,
 "nbformat_minor": 5
}

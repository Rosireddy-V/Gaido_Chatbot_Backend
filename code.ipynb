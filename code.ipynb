{
 "cells": [
  {
   "cell_type": "code",
   "execution_count": 10,
   "id": "4079ad34-75d9-4c7a-b33d-9b16f570eb4e",
   "metadata": {},
   "outputs": [
    {
     "name": "stdout",
     "output_type": "stream",
     "text": [
      "Requirement already satisfied: langchain in /Applications/anaconda3/envs/misenv/lib/python3.12/site-packages (0.3.3)\n",
      "Collecting langchain\n",
      "  Downloading langchain-0.3.19-py3-none-any.whl.metadata (7.9 kB)\n",
      "Requirement already satisfied: langchain-core in /Applications/anaconda3/envs/misenv/lib/python3.12/site-packages (0.3.10)\n",
      "Collecting langchain-core\n",
      "  Downloading langchain_core-0.3.40-py3-none-any.whl.metadata (5.9 kB)\n",
      "Requirement already satisfied: langchain-community in /Applications/anaconda3/envs/misenv/lib/python3.12/site-packages (0.3.2)\n",
      "Collecting langchain-community\n",
      "  Downloading langchain_community-0.3.18-py3-none-any.whl.metadata (2.4 kB)\n",
      "Requirement already satisfied: langchain-mistralai in /Applications/anaconda3/envs/misenv/lib/python3.12/site-packages (0.1.12)\n",
      "Collecting langchain-mistralai\n",
      "  Downloading langchain_mistralai-0.2.7-py3-none-any.whl.metadata (2.0 kB)\n",
      "Requirement already satisfied: pydantic in /Applications/anaconda3/envs/misenv/lib/python3.12/site-packages (2.9.2)\n",
      "Collecting pydantic\n",
      "  Downloading pydantic-2.10.6-py3-none-any.whl.metadata (30 kB)\n",
      "Collecting langchain-text-splitters<1.0.0,>=0.3.6 (from langchain)\n",
      "  Downloading langchain_text_splitters-0.3.6-py3-none-any.whl.metadata (1.9 kB)\n",
      "Requirement already satisfied: langsmith<0.4,>=0.1.17 in /Applications/anaconda3/envs/misenv/lib/python3.12/site-packages (from langchain) (0.1.129)\n",
      "Requirement already satisfied: SQLAlchemy<3,>=1.4 in /Applications/anaconda3/envs/misenv/lib/python3.12/site-packages (from langchain) (2.0.32)\n",
      "Requirement already satisfied: requests<3,>=2 in /Applications/anaconda3/envs/misenv/lib/python3.12/site-packages (from langchain) (2.32.3)\n",
      "Requirement already satisfied: PyYAML>=5.3 in /Applications/anaconda3/envs/misenv/lib/python3.12/site-packages (from langchain) (6.0.1)\n",
      "Requirement already satisfied: aiohttp<4.0.0,>=3.8.3 in /Applications/anaconda3/envs/misenv/lib/python3.12/site-packages (from langchain) (3.9.5)\n",
      "Requirement already satisfied: tenacity!=8.4.0,<10,>=8.1.0 in /Applications/anaconda3/envs/misenv/lib/python3.12/site-packages (from langchain) (8.2.3)\n",
      "Requirement already satisfied: numpy<3,>=1.26.2 in /Applications/anaconda3/envs/misenv/lib/python3.12/site-packages (from langchain) (1.26.4)\n",
      "Requirement already satisfied: jsonpatch<2.0,>=1.33 in /Applications/anaconda3/envs/misenv/lib/python3.12/site-packages (from langchain-core) (1.33)\n",
      "Requirement already satisfied: packaging<25,>=23.2 in /Applications/anaconda3/envs/misenv/lib/python3.12/site-packages (from langchain-core) (24.1)\n",
      "Requirement already satisfied: typing-extensions>=4.7 in /Applications/anaconda3/envs/misenv/lib/python3.12/site-packages (from langchain-core) (4.11.0)\n",
      "Requirement already satisfied: dataclasses-json<0.7,>=0.5.7 in /Applications/anaconda3/envs/misenv/lib/python3.12/site-packages (from langchain-community) (0.6.7)\n",
      "Requirement already satisfied: pydantic-settings<3.0.0,>=2.4.0 in /Applications/anaconda3/envs/misenv/lib/python3.12/site-packages (from langchain-community) (2.5.2)\n",
      "Requirement already satisfied: httpx-sse<1.0.0,>=0.4.0 in /Applications/anaconda3/envs/misenv/lib/python3.12/site-packages (from langchain-community) (0.4.0)\n",
      "Requirement already satisfied: tokenizers<1,>=0.15.1 in /Applications/anaconda3/envs/misenv/lib/python3.12/site-packages (from langchain-mistralai) (0.19.1)\n",
      "Requirement already satisfied: httpx<1,>=0.25.2 in /Applications/anaconda3/envs/misenv/lib/python3.12/site-packages (from langchain-mistralai) (0.27.0)\n",
      "Requirement already satisfied: annotated-types>=0.6.0 in /Applications/anaconda3/envs/misenv/lib/python3.12/site-packages (from pydantic) (0.6.0)\n",
      "Collecting pydantic-core==2.27.2 (from pydantic)\n",
      "  Downloading pydantic_core-2.27.2-cp312-cp312-macosx_11_0_arm64.whl.metadata (6.6 kB)\n",
      "Collecting typing-extensions>=4.7 (from langchain-core)\n",
      "  Using cached typing_extensions-4.12.2-py3-none-any.whl.metadata (3.0 kB)\n",
      "Requirement already satisfied: aiosignal>=1.1.2 in /Applications/anaconda3/envs/misenv/lib/python3.12/site-packages (from aiohttp<4.0.0,>=3.8.3->langchain) (1.2.0)\n",
      "Requirement already satisfied: attrs>=17.3.0 in /Applications/anaconda3/envs/misenv/lib/python3.12/site-packages (from aiohttp<4.0.0,>=3.8.3->langchain) (23.1.0)\n",
      "Requirement already satisfied: frozenlist>=1.1.1 in /Applications/anaconda3/envs/misenv/lib/python3.12/site-packages (from aiohttp<4.0.0,>=3.8.3->langchain) (1.4.0)\n",
      "Requirement already satisfied: multidict<7.0,>=4.5 in /Applications/anaconda3/envs/misenv/lib/python3.12/site-packages (from aiohttp<4.0.0,>=3.8.3->langchain) (6.0.4)\n",
      "Requirement already satisfied: yarl<2.0,>=1.0 in /Applications/anaconda3/envs/misenv/lib/python3.12/site-packages (from aiohttp<4.0.0,>=3.8.3->langchain) (1.9.3)\n",
      "Requirement already satisfied: marshmallow<4.0.0,>=3.18.0 in /Applications/anaconda3/envs/misenv/lib/python3.12/site-packages (from dataclasses-json<0.7,>=0.5.7->langchain-community) (3.21.3)\n",
      "Requirement already satisfied: typing-inspect<1,>=0.4.0 in /Applications/anaconda3/envs/misenv/lib/python3.12/site-packages (from dataclasses-json<0.7,>=0.5.7->langchain-community) (0.9.0)\n",
      "Requirement already satisfied: anyio in /Applications/anaconda3/envs/misenv/lib/python3.12/site-packages (from httpx<1,>=0.25.2->langchain-mistralai) (4.2.0)\n",
      "Requirement already satisfied: certifi in /Applications/anaconda3/envs/misenv/lib/python3.12/site-packages (from httpx<1,>=0.25.2->langchain-mistralai) (2024.8.30)\n",
      "Requirement already satisfied: httpcore==1.* in /Applications/anaconda3/envs/misenv/lib/python3.12/site-packages (from httpx<1,>=0.25.2->langchain-mistralai) (1.0.5)\n",
      "Requirement already satisfied: idna in /Applications/anaconda3/envs/misenv/lib/python3.12/site-packages (from httpx<1,>=0.25.2->langchain-mistralai) (3.7)\n",
      "Requirement already satisfied: sniffio in /Applications/anaconda3/envs/misenv/lib/python3.12/site-packages (from httpx<1,>=0.25.2->langchain-mistralai) (1.3.0)\n",
      "Requirement already satisfied: h11<0.15,>=0.13 in /Applications/anaconda3/envs/misenv/lib/python3.12/site-packages (from httpcore==1.*->httpx<1,>=0.25.2->langchain-mistralai) (0.14.0)\n",
      "Requirement already satisfied: jsonpointer>=1.9 in /Applications/anaconda3/envs/misenv/lib/python3.12/site-packages (from jsonpatch<2.0,>=1.33->langchain-core) (3.0.0)\n",
      "Requirement already satisfied: orjson<4.0.0,>=3.9.14 in /Applications/anaconda3/envs/misenv/lib/python3.12/site-packages (from langsmith<0.4,>=0.1.17->langchain) (3.9.15)\n",
      "Requirement already satisfied: python-dotenv>=0.21.0 in /Applications/anaconda3/envs/misenv/lib/python3.12/site-packages (from pydantic-settings<3.0.0,>=2.4.0->langchain-community) (1.0.1)\n",
      "Requirement already satisfied: charset-normalizer<4,>=2 in /Applications/anaconda3/envs/misenv/lib/python3.12/site-packages (from requests<3,>=2->langchain) (3.3.2)\n",
      "Requirement already satisfied: urllib3<3,>=1.21.1 in /Applications/anaconda3/envs/misenv/lib/python3.12/site-packages (from requests<3,>=2->langchain) (2.2.2)\n",
      "Requirement already satisfied: huggingface-hub<1.0,>=0.16.4 in /Applications/anaconda3/envs/misenv/lib/python3.12/site-packages (from tokenizers<1,>=0.15.1->langchain-mistralai) (0.23.1)\n",
      "Requirement already satisfied: filelock in /Applications/anaconda3/envs/misenv/lib/python3.12/site-packages (from huggingface-hub<1.0,>=0.16.4->tokenizers<1,>=0.15.1->langchain-mistralai) (3.13.1)\n",
      "Requirement already satisfied: fsspec>=2023.5.0 in /Applications/anaconda3/envs/misenv/lib/python3.12/site-packages (from huggingface-hub<1.0,>=0.16.4->tokenizers<1,>=0.15.1->langchain-mistralai) (2024.3.1)\n",
      "Requirement already satisfied: tqdm>=4.42.1 in /Applications/anaconda3/envs/misenv/lib/python3.12/site-packages (from huggingface-hub<1.0,>=0.16.4->tokenizers<1,>=0.15.1->langchain-mistralai) (4.66.4)\n",
      "Requirement already satisfied: mypy-extensions>=0.3.0 in /Applications/anaconda3/envs/misenv/lib/python3.12/site-packages (from typing-inspect<1,>=0.4.0->dataclasses-json<0.7,>=0.5.7->langchain-community) (1.0.0)\n",
      "Downloading langchain-0.3.19-py3-none-any.whl (1.0 MB)\n",
      "\u001b[2K   \u001b[38;2;114;156;31m━━━━━━━━━━━━━━━━━━━━━━━━━━━━━━━━━━━━━━━━\u001b[0m \u001b[32m1.0/1.0 MB\u001b[0m \u001b[31m1.8 MB/s\u001b[0m eta \u001b[36m0:00:00\u001b[0m MB/s\u001b[0m eta \u001b[36m0:00:01\u001b[0m\n",
      "\u001b[?25hDownloading langchain_core-0.3.40-py3-none-any.whl (414 kB)\n",
      "Downloading langchain_community-0.3.18-py3-none-any.whl (2.5 MB)\n",
      "\u001b[2K   \u001b[38;2;114;156;31m━━━━━━━━━━━━━━━━━━━━━━━━━━━━━━━━━━━━━━━━\u001b[0m \u001b[32m2.5/2.5 MB\u001b[0m \u001b[31m402.3 kB/s\u001b[0m eta \u001b[36m0:00:00\u001b[0m kB/s\u001b[0m eta \u001b[36m0:00:01\u001b[0m:03\u001b[0m\n",
      "\u001b[?25hDownloading langchain_mistralai-0.2.7-py3-none-any.whl (15 kB)\n",
      "Downloading pydantic-2.10.6-py3-none-any.whl (431 kB)\n",
      "Downloading pydantic_core-2.27.2-cp312-cp312-macosx_11_0_arm64.whl (1.8 MB)\n",
      "\u001b[2K   \u001b[38;2;114;156;31m━━━━━━━━━━━━━━━━━━━━━━━━━━━━━━━━━━━━━━━━\u001b[0m \u001b[32m1.8/1.8 MB\u001b[0m \u001b[31m225.3 kB/s\u001b[0m eta \u001b[36m0:00:00\u001b[0m1m216.9 kB/s\u001b[0m eta \u001b[36m0:00:02\u001b[0m\n",
      "\u001b[?25hDownloading langchain_text_splitters-0.3.6-py3-none-any.whl (31 kB)\n",
      "Using cached typing_extensions-4.12.2-py3-none-any.whl (37 kB)\n",
      "Installing collected packages: typing-extensions, pydantic-core, pydantic, langchain-core, langchain-text-splitters, langchain-mistralai, langchain, langchain-community\n",
      "  Attempting uninstall: typing-extensions\n",
      "    Found existing installation: typing_extensions 4.11.0\n",
      "    Uninstalling typing_extensions-4.11.0:\n",
      "      Successfully uninstalled typing_extensions-4.11.0\n",
      "  Attempting uninstall: pydantic-core\n",
      "    Found existing installation: pydantic_core 2.23.4\n",
      "    Uninstalling pydantic_core-2.23.4:\n",
      "      Successfully uninstalled pydantic_core-2.23.4\n",
      "  Attempting uninstall: pydantic\n",
      "    Found existing installation: pydantic 2.9.2\n",
      "    Uninstalling pydantic-2.9.2:\n",
      "      Successfully uninstalled pydantic-2.9.2\n",
      "  Attempting uninstall: langchain-core\n",
      "    Found existing installation: langchain-core 0.3.10\n",
      "    Uninstalling langchain-core-0.3.10:\n",
      "      Successfully uninstalled langchain-core-0.3.10\n",
      "  Attempting uninstall: langchain-text-splitters\n",
      "    Found existing installation: langchain-text-splitters 0.3.0\n",
      "    Uninstalling langchain-text-splitters-0.3.0:\n",
      "      Successfully uninstalled langchain-text-splitters-0.3.0\n",
      "  Attempting uninstall: langchain-mistralai\n",
      "    Found existing installation: langchain-mistralai 0.1.12\n",
      "    Uninstalling langchain-mistralai-0.1.12:\n",
      "      Successfully uninstalled langchain-mistralai-0.1.12\n",
      "  Attempting uninstall: langchain\n",
      "    Found existing installation: langchain 0.3.3\n",
      "    Uninstalling langchain-0.3.3:\n",
      "      Successfully uninstalled langchain-0.3.3\n",
      "  Attempting uninstall: langchain-community\n",
      "    Found existing installation: langchain-community 0.3.2\n",
      "    Uninstalling langchain-community-0.3.2:\n",
      "      Successfully uninstalled langchain-community-0.3.2\n",
      "\u001b[31mERROR: pip's dependency resolver does not currently take into account all the packages that are installed. This behaviour is the source of the following dependency conflicts.\n",
      "langchain-chroma 0.1.2 requires langchain-core<0.3,>=0.1.40, but you have langchain-core 0.3.40 which is incompatible.\n",
      "langchain-ollama 0.1.1 requires langchain-core<0.3.0,>=0.2.20, but you have langchain-core 0.3.40 which is incompatible.\n",
      "langchain-experimental 0.0.64 requires langchain-community<0.3.0,>=0.2.10, but you have langchain-community 0.3.18 which is incompatible.\n",
      "langchain-experimental 0.0.64 requires langchain-core<0.3.0,>=0.2.27, but you have langchain-core 0.3.40 which is incompatible.\n",
      "langchain-huggingface 0.0.3 requires langchain-core<0.3,>=0.1.52, but you have langchain-core 0.3.40 which is incompatible.\u001b[0m\u001b[31m\n",
      "\u001b[0mSuccessfully installed langchain-0.3.19 langchain-community-0.3.18 langchain-core-0.2.40 langchain-mistralai-0.2.7 langchain-text-splitters-0.3.6 pydantic-2.10.6 pydantic-core-2.27.2 typing-extensions-4.12.2\n",
      "Note: you may need to restart the kernel to use updated packages.\n"
     ]
    }
   ],
   "source": [
    "pip install --upgrade langchain langchain-core langchain-community langchain-mistralai pydantic"
   ]
  },
  {
   "cell_type": "code",
   "execution_count": 19,
   "id": "f998b656-ecac-4cf5-8ba3-96f0599fb556",
   "metadata": {},
   "outputs": [
    {
     "name": "stdin",
     "output_type": "stream",
     "text": [
      " ········\n"
     ]
    }
   ],
   "source": [
    "import getpass\n",
    "import os\n",
    "\n",
    "os.environ[\"LANGSMITH_TRACING\"] = \"true\"\n",
    "os.environ[\"LANGSMITH_API_KEY\"] = getpass.getpass()"
   ]
  },
  {
   "cell_type": "code",
   "execution_count": 1,
   "id": "0f140fa6-2e5e-4da6-bc64-5727dc2b753c",
   "metadata": {},
   "outputs": [
    {
     "name": "stdout",
     "output_type": "stream",
     "text": [
      "68\n"
     ]
    }
   ],
   "source": [
    "from langchain_community.document_loaders import PyPDFLoader\n",
    "\n",
    "file_path = \"Sample HI Policy.pdf\"\n",
    "loader = PyPDFLoader(file_path)\n",
    "\n",
    "docs = loader.load()\n",
    "\n",
    "print(len(docs))"
   ]
  },
  {
   "cell_type": "code",
   "execution_count": 2,
   "id": "008cde45-6d4b-4b2e-8d30-7777f5473412",
   "metadata": {},
   "outputs": [
    {
     "name": "stdout",
     "output_type": "stream",
     "text": [
      "Date: 13/01/2025\n",
      "Policy Number: 33033225202502\n",
      "Customer ID: 2002528737\n",
      "MR. LOKU HEMANTH\n",
      "1-59 NARSIMHA SAGAR MULUGU TELANGANA,\n",
      "506172,\n",
      "WARANGAL,\n",
      "TELANGANA  -506172\n",
      "Mobile: XXXXXX4777\n",
      "  \n",
      "Product Name: ReAssure | Product UIN: NBHHLIP25037V032425Subject :  Niva Bupa Health Insurance Policy No.   33033225202502\n",
      "Dear MR. LOKU HEMANTH,\n",
      "Thank you for renewing your Niva Bupa health insurance policy. At Niva Bupa, we put your health first and are committed to provide you access to \n",
      "the very best of health \n",
      "\n",
      "{'producer': 'PyPDF', 'creator': 'HP Exstream Version 9.0.104 64-bit (DBCS)', 'creationdate': '1/13/2025 06:34:17', 'author': 'Registered to: MAXBUPA', 'title': 'FPPACK_B_PA', 'source': 'Sample HI Policy.pdf', 'total_pages': 68, 'page': 0, 'page_label': '1'}\n"
     ]
    }
   ],
   "source": [
    "print(f\"{docs[0].page_content[:500]} \\n\")\n",
    "print(docs[0].metadata)"
   ]
  },
  {
   "cell_type": "code",
   "execution_count": 3,
   "id": "baf1ae9b-733d-4571-bea4-d8b0ccfc833f",
   "metadata": {},
   "outputs": [
    {
     "data": {
      "text/plain": [
       "231"
      ]
     },
     "execution_count": 3,
     "metadata": {},
     "output_type": "execute_result"
    }
   ],
   "source": [
    "from langchain_text_splitters import RecursiveCharacterTextSplitter\n",
    "\n",
    "text_splitter = RecursiveCharacterTextSplitter(\n",
    "    chunk_size=1000, chunk_overlap=200, add_start_index=True\n",
    ")\n",
    "all_splits = text_splitter.split_documents(docs)\n",
    "\n",
    "len(all_splits)"
   ]
  },
  {
   "cell_type": "code",
   "execution_count": 4,
   "id": "c0a1fbdf-b628-48ca-bf08-4a070400a040",
   "metadata": {},
   "outputs": [
    {
     "data": {
      "text/plain": [
       "Document(metadata={'producer': 'PyPDF', 'creator': 'HP Exstream Version 9.0.104 64-bit (DBCS)', 'creationdate': '1/13/2025 06:34:17', 'author': 'Registered to: MAXBUPA', 'title': 'FPPACK_B_PA', 'source': 'Sample HI Policy.pdf', 'total_pages': 68, 'page': 2, 'page_label': '3', 'start_index': 806}, page_content='Accident opted\\nMr. Hemanth  Loku 12,50,000 1,37,750 12,50,000 26,37,750 0.00  0\\n.\\x01\\nPremium Details \\nNet\\nPremium/Taxable\\nValue (Rs.)Integrated\\nGoods and\\nService Tax\\n(18.00%)Central Goods and\\nService Tax (0.00\\n%)State/UT Goods and\\nService Tax (0.00 %)Gross Premium (Rs.) Gross Premium (Rs.)\\n(in words)\\n10,868.00 1,956.24 0.00 0.00 12,824.00 Twelve Thousand Eight Hundred\\nTwenty-Four Only\\nNominee Details\\nNominee Name Relationship with the Policyholder\\nLoku   Satyam Father\\nIntermediary Details\\n Intermediary Name Intermediary Code Intermediary Contact No.\\nBank Of Baroda BNK0060001 02267592513\\nClaim Administrator Servicing Branch Details\\nNiva Bupa Health Insurance Company Limited Logix Infotech Park , Plot no D-5, Sector 59, Noida, Gautam Budh Nagar, Uttar Pradesh\\n201301\\nOptional Benefit/Feature Details\\nParticulars Details\\nPersonal Accident Cover Not opted\\nSafeguard Not opted\\nSafeguard+ Yes\\nHospital Cash Not opted')"
      ]
     },
     "execution_count": 4,
     "metadata": {},
     "output_type": "execute_result"
    }
   ],
   "source": [
    "all_splits[5]"
   ]
  },
  {
   "cell_type": "code",
   "execution_count": 37,
   "id": "ca506527-58f9-4436-bdce-12020cca2f3d",
   "metadata": {},
   "outputs": [
    {
     "name": "stdout",
     "output_type": "stream",
     "text": [
      "Note: you may need to restart the kernel to use updated packages.\n"
     ]
    }
   ],
   "source": [
    "pip install -qU \"langchain[groq]\""
   ]
  },
  {
   "cell_type": "code",
   "execution_count": 5,
   "id": "7cb8845a-ef00-4442-9bd3-30f4f8bf3ba6",
   "metadata": {},
   "outputs": [],
   "source": [
    "import getpass\n",
    "import os\n",
    "\n",
    "if not os.environ.get(\"GROQ_API_KEY\"):\n",
    "  os.environ[\"GROQ_API_KEY\"] = getpass.getpass(\"Enter API key for Groq: \")\n",
    "\n",
    "from langchain.chat_models import init_chat_model\n",
    "\n",
    "llm = init_chat_model(\"llama3-8b-8192\", model_provider=\"groq\")\n"
   ]
  },
  {
   "cell_type": "code",
   "execution_count": 10,
   "id": "59376825-a043-496d-b027-fd877778d686",
   "metadata": {
    "scrolled": true
   },
   "outputs": [],
   "source": [
    "import getpass\n",
    "import os\n",
    "\n",
    "if not os.environ.get(\"MISTRALAI_API_KEY\"):\n",
    "  os.environ[\"MISTRALAI_API_KEY\"] = getpass.getpass(\"Enter API key for MistralAI: \")\n",
    "\n",
    "from langchain_mistralai import MistralAIEmbeddings\n",
    "\n",
    "embeddings = MistralAIEmbeddings(model=\"mistral-embed\")"
   ]
  },
  {
   "cell_type": "code",
   "execution_count": 13,
   "id": "d8aaa73c-34ef-4e1e-a40e-baf302bae51a",
   "metadata": {},
   "outputs": [],
   "source": [
    "import os\n",
    "g1=os.environ.get(\"MISTRALAI_API_KEY\")"
   ]
  },
  {
   "cell_type": "code",
   "execution_count": 14,
   "id": "812dd4f0-6f1b-4d9d-a0b5-5c9ef9e2b1bb",
   "metadata": {
    "scrolled": true
   },
   "outputs": [],
   "source": [
    "from langchain_mistralai import MistralAIEmbeddings\n",
    "\n",
    "embeddings = MistralAIEmbeddings(model=\"mistral-embed\",api_key=g1)"
   ]
  },
  {
   "cell_type": "code",
   "execution_count": 15,
   "id": "0228151e-d5b2-4204-943a-d23eac7e41fe",
   "metadata": {},
   "outputs": [
    {
     "name": "stdout",
     "output_type": "stream",
     "text": [
      "Generated vectors of length 1024\n",
      "\n",
      "[-0.033203125, 0.02532958984375, 0.0572509765625, -0.028045654296875, 0.040252685546875, 0.038848876953125, 0.049224853515625, -0.0128173828125, 0.004352569580078125, 0.0023441314697265625]\n"
     ]
    }
   ],
   "source": [
    "vector_1 = embeddings.embed_query(all_splits[0].page_content)\n",
    "vector_2 = embeddings.embed_query(all_splits[1].page_content)\n",
    "\n",
    "assert len(vector_1) == len(vector_2)\n",
    "print(f\"Generated vectors of length {len(vector_1)}\\n\")\n",
    "print(vector_1[:10])"
   ]
  },
  {
   "cell_type": "code",
   "execution_count": 10,
   "id": "58521c9b-8d8a-4bee-b473-9cc30155f056",
   "metadata": {},
   "outputs": [
    {
     "name": "stdout",
     "output_type": "stream",
     "text": [
      "\u001b[31mERROR: pip's dependency resolver does not currently take into account all the packages that are installed. This behaviour is the source of the following dependency conflicts.\n",
      "langchain-chroma 0.1.2 requires langchain-core<0.3,>=0.1.40, but you have langchain-core 0.3.40 which is incompatible.\n",
      "langchain-ollama 0.1.1 requires langchain-core<0.3.0,>=0.2.20, but you have langchain-core 0.3.40 which is incompatible.\n",
      "langchain-experimental 0.0.64 requires langchain-community<0.3.0,>=0.2.10, but you have langchain-community 0.3.18 which is incompatible.\n",
      "langchain-experimental 0.0.64 requires langchain-core<0.3.0,>=0.2.27, but you have langchain-core 0.3.40 which is incompatible.\n",
      "langchain-huggingface 0.0.3 requires langchain-core<0.3,>=0.1.52, but you have langchain-core 0.3.40 which is incompatible.\u001b[0m\u001b[31m\n",
      "\u001b[0mNote: you may need to restart the kernel to use updated packages.\n"
     ]
    }
   ],
   "source": [
    "pip install -qU langchain-core"
   ]
  },
  {
   "cell_type": "code",
   "execution_count": 16,
   "id": "767b3aea-2d83-43b5-a9c3-264f0b402381",
   "metadata": {},
   "outputs": [],
   "source": [
    "from langchain_core.vectorstores import InMemoryVectorStore\n",
    "\n",
    "vector_store = InMemoryVectorStore(embeddings)"
   ]
  },
  {
   "cell_type": "code",
   "execution_count": 17,
   "id": "fe5eabea-b5e0-4cdc-a1d0-8851d1e7e37d",
   "metadata": {},
   "outputs": [],
   "source": [
    "ids = vector_store.add_documents(documents=all_splits)"
   ]
  },
  {
   "cell_type": "code",
   "execution_count": 18,
   "id": "2798dff7-2b49-471c-8a11-249bd2318604",
   "metadata": {},
   "outputs": [
    {
     "name": "stdout",
     "output_type": "stream",
     "text": [
      "page_content='d. The insured person is in India and the treatment is required in India only and not overseas in any condition \n",
      "whatsoever.  \n",
      "e. The air ambulance provider is registered in India.  \n",
      "f. We will cover expen ses up to the amount specified in the Policy Schedule  for transportation of the Insured \n",
      "Person under this benefit.  \n",
      " \n",
      "What is not covered:  \n",
      "a. Expenses incurred in return transportation to Insured Person’s home by air ambulance is excluded.  \n",
      " \n",
      "4.11 Home Care treatment  \n",
      " \n",
      "What is covered:  \n",
      "We will indemnify the Medical Expenses incurred on the Insured Person’s treatment taken at home for \n",
      "Chemotherapy or Dialysis.  \n",
      " \n",
      "Conditions - The above coverage is subject to fulfilment of following conditions : \n",
      "a. These services shall be offered by a registered homecare provider.  \n",
      " \n",
      "What is not covered:  \n",
      "a. Treatment taken by automation machine for peritoneal dialysis.  \n",
      "b. Sections 4.6 (Pre-hospitalization Medical Expenses) and Section 4.7 (Post - hospitalization Medical Exp enses)' metadata={'producer': 'PyPDF', 'creator': 'HP Exstream Version 9.0.104 64-bit (DBCS)', 'creationdate': '1/13/2025 06:34:17', 'author': 'Registered to: MAXBUPA', 'title': 'FPPACK_B_PA', 'source': 'Sample HI Policy.pdf', 'total_pages': 68, 'page': 33, 'page_label': '34', 'start_index': 827}\n"
     ]
    }
   ],
   "source": [
    "results = vector_store.similarity_search(\n",
    "    \"Are treatments taken outside India covered?\"\n",
    ")\n",
    "\n",
    "print(results[0])"
   ]
  },
  {
   "cell_type": "code",
   "execution_count": 20,
   "id": "daf2b746-38ef-4c4d-92e4-77c8fb860d08",
   "metadata": {},
   "outputs": [
    {
     "name": "stdout",
     "output_type": "stream",
     "text": [
      "page_content='POLICY SERVICING\n",
      "CLAIM SERVICING\n",
      "GRIEVANCE HANDLINGPost Policy issue service requests –from the date of receipt of service \n",
      "request7Days\n",
      "Proposal refund in case of cancellation –from the date of decision of the \n",
      "proposal7 Days\n",
      "Settlement of Claims -From the date of submission of claim 15 Days\n",
      "Acknowledge a grievance –from the date of receipt of grievance Immediately\n",
      "Resolve a grievance –from the date of receipt of grievance 14 Days\n",
      "Turnaround Time*\n",
      "(Calendar Days)\n",
      "Turnaround Time*\n",
      "(Calendar Days)\n",
      "Turnaround Time*\n",
      "(Calendar Days)\n",
      "*Turnaround time will start from the date of receipt of complete documents at Niva Bupa Health Insurance Company Ltd.' metadata={'producer': 'PyPDF', 'creator': 'HP Exstream Version 9.0.104 64-bit (DBCS)', 'creationdate': '1/13/2025 06:34:17', 'author': 'Registered to: MAXBUPA', 'title': 'FPPACK_B_PA', 'source': 'Sample HI Policy.pdf', 'total_pages': 68, 'page': 1, 'page_label': '2', 'start_index': 0}\n"
     ]
    }
   ],
   "source": [
    "results = await vector_store.asimilarity_search(\"How many days does it take to resolve a grievance?\")\n",
    "\n",
    "print(results[0])"
   ]
  },
  {
   "cell_type": "code",
   "execution_count": 21,
   "id": "443e61df-aa64-4f83-a532-2ad2cb9274ce",
   "metadata": {},
   "outputs": [
    {
     "name": "stdout",
     "output_type": "stream",
     "text": [
      "You are an assistant for question-answering tasks. Use the following pieces of retrieved context to answer the question. If you don't know the answer, just say that you don't know. Use three sentences maximum and keep the answer concise.\n",
      "Question: (question goes here) \n",
      "Context: (context goes here) \n",
      "Answer:\n"
     ]
    }
   ],
   "source": [
    "from langchain import hub\n",
    "\n",
    "prompt = hub.pull(\"rlm/rag-prompt\")\n",
    "\n",
    "example_messages = prompt.invoke(\n",
    "    {\"context\": \"(context goes here)\", \"question\": \"(question goes here)\"}\n",
    ").to_messages()\n",
    "\n",
    "assert len(example_messages) == 1\n",
    "print(example_messages[0].content)"
   ]
  },
  {
   "cell_type": "code",
   "execution_count": 22,
   "id": "db5cf6fe-c977-41ef-b41d-04358ba7c655",
   "metadata": {},
   "outputs": [],
   "source": [
    "from langchain_core.prompts import PromptTemplate\n",
    "\n",
    "template = \"\"\"Use the following pieces of context to answer the question at the end.\n",
    "If you don't know the answer, just say that you don't know, don't try to make up an answer.\n",
    "Use three sentences maximum and keep the answer as concise as possible.\n",
    "Always say \"thanks for asking!\" at the end of the answer.\n",
    "\n",
    "{context}\n",
    "\n",
    "Question: {question}\n",
    "\n",
    "Helpful Answer:\"\"\"\n",
    "custom_rag_prompt = PromptTemplate.from_template(template)"
   ]
  },
  {
   "cell_type": "code",
   "execution_count": 23,
   "id": "30f44c36-44da-4284-a57f-14adb3c4afbe",
   "metadata": {},
   "outputs": [],
   "source": [
    "from langchain_core.documents import Document\n",
    "from typing_extensions import List, TypedDict\n",
    "\n",
    "\n",
    "class State(TypedDict):\n",
    "    question: str\n",
    "    context: List[Document]\n",
    "    answer: str"
   ]
  },
  {
   "cell_type": "code",
   "execution_count": 24,
   "id": "d4df37ab-7e3f-475a-a693-144599c8a5fd",
   "metadata": {},
   "outputs": [],
   "source": [
    "def retrieve(state: State):\n",
    "    retrieved_docs = vector_store.similarity_search(state[\"question\"])\n",
    "    return {\"context\": retrieved_docs}\n",
    "\n",
    "\n",
    "def generate(state: State):\n",
    "    docs_content = \"\\n\\n\".join(doc.page_content for doc in state[\"context\"])\n",
    "    messages = prompt.invoke({\"question\": state[\"question\"], \"context\": docs_content})\n",
    "    response = llm.invoke(messages)\n",
    "    return {\"answer\": response.content}\n",
    "\n",
    "def generate1(state: State):\n",
    "    docs_content = \"\\n\\n\".join(doc.page_content for doc in state[\"context\"])\n",
    "    messages = custom_rag_prompt.invoke({\"question\": state[\"question\"], \"context\": docs_content})\n",
    "    response = llm.invoke(messages)\n",
    "    return {\"answer\": response.content}"
   ]
  },
  {
   "cell_type": "code",
   "execution_count": 25,
   "id": "bc01aa19-7a2c-4770-84ba-f8450c28a875",
   "metadata": {},
   "outputs": [],
   "source": [
    "from langgraph.graph import START, StateGraph\n",
    "\n",
    "# Create the graph\n",
    "graph_builder = StateGraph(State)\n",
    "graph_builder1 = StateGraph(State)\n",
    "\n",
    "# Add your nodes\n",
    "graph_builder.add_node(\"retrieve\", retrieve)\n",
    "graph_builder.add_node(\"generate\", generate)\n",
    "graph_builder1.add_node(\"retrieve\", retrieve)\n",
    "graph_builder1.add_node(\"generate1\", generate1)\n",
    "\n",
    "# Add your edges\n",
    "graph_builder.add_edge(START, \"retrieve\")\n",
    "graph_builder.add_edge(\"retrieve\", \"generate\")\n",
    "graph_builder1.add_edge(START, \"retrieve\")\n",
    "graph_builder1.add_edge(\"retrieve\", \"generate1\")\n",
    "\n",
    "# Compile the graph\n",
    "graph = graph_builder.compile()\n",
    "graph1 = graph_builder1.compile()"
   ]
  },
  {
   "cell_type": "code",
   "execution_count": 26,
   "id": "820ae0f2-3db5-481e-9d5f-f98a8a8762d9",
   "metadata": {},
   "outputs": [
    {
     "data": {
      "image/png": "[encoded data removed]",
      "text/plain": [
       "<IPython.core.display.Image object>"
      ]
     },
     "metadata": {},
     "output_type": "display_data"
    }
   ],
   "source": [
    "from IPython.display import Image, display\n",
    "\n",
    "display(Image(graph.get_graph().draw_mermaid_png()))"
   ]
  },
  {
   "cell_type": "code",
   "execution_count": 27,
   "id": "e467dea4-f8fe-4869-87b9-3bb023b86e31",
   "metadata": {},
   "outputs": [
    {
     "data": {
      "image/png": "[encoded data removed]",
      "text/plain": [
       "<IPython.core.display.Image object>"
      ]
     },
     "metadata": {},
     "output_type": "display_data"
    }
   ],
   "source": [
    "from IPython.display import Image, display\n",
    "\n",
    "display(Image(graph1.get_graph().draw_mermaid_png()))"
   ]
  },
  {
   "cell_type": "code",
   "execution_count": 28,
   "id": "3a6f7c94-c8ba-48ea-bc90-f32bb007c688",
   "metadata": {},
   "outputs": [
    {
     "name": "stdout",
     "output_type": "stream",
     "text": [
      "Context: [Document(id='29d242bf-e70b-4253-a244-0e375c88f23a', metadata={'producer': 'PyPDF', 'creator': 'HP Exstream Version 9.0.104 64-bit (DBCS)', 'creationdate': '1/13/2025 06:34:17', 'author': 'Registered to: MAXBUPA', 'title': 'FPPACK_B_PA', 'source': 'Sample HI Policy.pdf', 'total_pages': 68, 'page': 34, 'page_label': '35', 'start_index': 3010}, page_content='4.14 Shared accommodation Cash Benefit  \\n \\nWhat is covered:  \\nIf We have accepted an Inpatient Care Hospitalization claim and the Insured Person has occupied a shared  room \\naccommodation during such Hospitalization in a Network Hospital, We will pay a daily cash amount as specified \\nin the Policy Schedule for the Insured Person for each continuous and completed period of 24 hours of \\nHospitalization.  \\n \\nConditions - The abo ve coverage is subject to fulfilment of following conditions : \\na. The Insured Person has been admitted in a Hospital for a minimum period of 48 hours continuously.  \\n \\nWhat is not covered:  \\na. This benefit will not be payable if the Insured Person stays in an Intensive Care Unit or High Dependency \\nUnits / wards.  \\n \\n4.15 Health Checkup'), Document(id='14fbc8e5-fd0b-4a8f-810e-b4dbbd553de3', metadata={'producer': 'PyPDF', 'creator': 'HP Exstream Version 9.0.104 64-bit (DBCS)', 'creationdate': '1/13/2025 06:34:17', 'author': 'Registered to: MAXBUPA', 'title': 'FPPACK_B_PA', 'source': 'Sample HI Policy.pdf', 'total_pages': 68, 'page': 61, 'page_label': '62', 'start_index': 0}, page_content='Policy Document  \\nProduct Name: ReAssure| Product UIN: NBHHLIP25037V032425   \\nList II – Items that are to be subsumed into Room Charges  \\n 48 NIMBUS BED OR WATER OR AIR BED CHARGES  \\n49 AMBULANCE COLLAR  \\n50 AMBULANCE EQUIPMENT  \\n51 ABDOMINAL BINDER  \\n52 PRIVATE NURSES CHARGES - SPECIAL NURSING CHARGES  \\n53  SUGAR FREE Tablets  \\n54 CREAMS POWDERS LOTIONS (Toiletries are not payable, only prescribed medical \\npharmaceuticals payable)  \\n55 ECG ELECTRODES  \\n56 GLOVES  \\n57 NEBULISATION KIT  \\n58 ANY KIT WITH NO DETAILS MENTIONED [DELIVERY KIT, ORTHOKIT, RECOVERY KIT, ETC]  \\n59 KIDNEY TRAY  \\n60 MASK  \\n61 OUNCE GLASS  \\n62 OXYGEN MASK  \\n63 PELVIC TRACTION BELT  \\n64 PAN CAN  \\n65 TROLLY COVER  \\n66 UROMETER, URINE JUG  \\n67 AMBULANCE  \\n68 VASOFIX SAFETY  \\nSl. No. Item  \\n1 BABY CHARGES (UNLESS SPECIFIED/INDICATED)  \\n2 HAND WASH  \\n3 SHOE COVER  \\n4 CAPS  \\n5 CRADLE CHARGES  \\n6 COMB  \\n7 EAU -DE-COLOGNE / ROOM FRESHNERS  \\n8 FOOT COVER  \\n9 GOWN  \\n10 SLIPPERS  \\n11 TISSUE PAPER  \\n12 TOOTH PASTE'), Document(id='74fbf3a5-4c72-4ab6-b34b-3886f73abfe4', metadata={'producer': 'PyPDF', 'creator': 'HP Exstream Version 9.0.104 64-bit (DBCS)', 'creationdate': '1/13/2025 06:34:17', 'author': 'Registered to: MAXBUPA', 'title': 'FPPACK_B_PA', 'source': 'Sample HI Policy.pdf', 'total_pages': 68, 'page': 39, 'page_label': '40', 'start_index': 0}, page_content='Policy Document  \\nProduct Name: ReAssure| Product UIN: NBHHLIP25037V032425  5. Mobility: the ability to move indoors from room to room on level surfaces at the normal place of \\nresidence.  \\n6. Transferring: the ability to move from a lying po sition in a bed to a sitting position in an upright chair or \\nwheel chair and vice versa.  \\n \\nConditions - The above coverage is subject to fulfilment of following conditions:  \\na. The Permanent Total Disability is proved through a disability certificate issued by a Medical Board duly \\nconstituted by the Central and/or the State Government; and  \\nb. We will admit a claim under this optional benefit only if the Permanent Total Disability c ontinues for a \\nperiod of at least 6 continuous calendar months from the commencement of the Permanent Total Disability \\nunless it is irreversible, such as in case of amputation/loss of limbs etc; and  \\nc. If the Insured Person dies before a claim has been admit ted under this optional benefit, no amount will be'), Document(id='3ef6c316-7d9c-4868-bf33-0cb1e4c16f4d', metadata={'producer': 'PyPDF', 'creator': 'HP Exstream Version 9.0.104 64-bit (DBCS)', 'creationdate': '1/13/2025 06:34:17', 'author': 'Registered to: MAXBUPA', 'title': 'FPPACK_B_PA', 'source': 'Sample HI Policy.pdf', 'total_pages': 68, 'page': 38, 'page_label': '39', 'start_index': 0}, page_content='Policy Document  \\nProduct Name: ReAssure| Product UIN: NBHHLIP25037V032425  5. Optional Benefits  \\n \\nThe following optional benefits shall apply  under the Policy  only if it is specified in the Policy Schedule . Optional \\nbenefits can be selected by You only at the time of issuance of the First Policy or at Renewal , unless specified \\notherwise,  on payment of the corresponding additional premium.  \\n \\nThe optional benefits ‘ Personal Accident Cover’  and ‘Hospital Cash’  will be payable (only on Reimbursement  \\nbasis) if the conditions mentioned in the below sections are contracted or sustained by the Insured Person \\ncovered under these optional benefits during the Policy Period.  \\n \\nThe applicable optional benefits will be payable subject to the terms, conditions and exclusions of this Policy and \\nsubject always to any sub -limits for the optional benefit as specified in Your Policy Schedule .')]\n",
      "\n",
      "\n",
      "Answer: No, there is no option for room type modification under this policy. The policy only covers shared accommodation and does not provide an option to modify the room type.\n"
     ]
    }
   ],
   "source": [
    "result = graph.invoke({\"question\": \"Is there an option for room type modification under this policy?\"})\n",
    "\n",
    "print(f'Context: {result[\"context\"]}\\n\\n')\n",
    "print(f'Answer: {result[\"answer\"]}')"
   ]
  },
  {
   "cell_type": "code",
   "execution_count": 29,
   "id": "4f9bfdab-f6fc-4be7-9fff-d03582900751",
   "metadata": {},
   "outputs": [
    {
     "name": "stdout",
     "output_type": "stream",
     "text": [
      "Context: [Document(id='29d242bf-e70b-4253-a244-0e375c88f23a', metadata={'producer': 'PyPDF', 'creator': 'HP Exstream Version 9.0.104 64-bit (DBCS)', 'creationdate': '1/13/2025 06:34:17', 'author': 'Registered to: MAXBUPA', 'title': 'FPPACK_B_PA', 'source': 'Sample HI Policy.pdf', 'total_pages': 68, 'page': 34, 'page_label': '35', 'start_index': 3010}, page_content='4.14 Shared accommodation Cash Benefit  \\n \\nWhat is covered:  \\nIf We have accepted an Inpatient Care Hospitalization claim and the Insured Person has occupied a shared  room \\naccommodation during such Hospitalization in a Network Hospital, We will pay a daily cash amount as specified \\nin the Policy Schedule for the Insured Person for each continuous and completed period of 24 hours of \\nHospitalization.  \\n \\nConditions - The abo ve coverage is subject to fulfilment of following conditions : \\na. The Insured Person has been admitted in a Hospital for a minimum period of 48 hours continuously.  \\n \\nWhat is not covered:  \\na. This benefit will not be payable if the Insured Person stays in an Intensive Care Unit or High Dependency \\nUnits / wards.  \\n \\n4.15 Health Checkup'), Document(id='14fbc8e5-fd0b-4a8f-810e-b4dbbd553de3', metadata={'producer': 'PyPDF', 'creator': 'HP Exstream Version 9.0.104 64-bit (DBCS)', 'creationdate': '1/13/2025 06:34:17', 'author': 'Registered to: MAXBUPA', 'title': 'FPPACK_B_PA', 'source': 'Sample HI Policy.pdf', 'total_pages': 68, 'page': 61, 'page_label': '62', 'start_index': 0}, page_content='Policy Document  \\nProduct Name: ReAssure| Product UIN: NBHHLIP25037V032425   \\nList II – Items that are to be subsumed into Room Charges  \\n 48 NIMBUS BED OR WATER OR AIR BED CHARGES  \\n49 AMBULANCE COLLAR  \\n50 AMBULANCE EQUIPMENT  \\n51 ABDOMINAL BINDER  \\n52 PRIVATE NURSES CHARGES - SPECIAL NURSING CHARGES  \\n53  SUGAR FREE Tablets  \\n54 CREAMS POWDERS LOTIONS (Toiletries are not payable, only prescribed medical \\npharmaceuticals payable)  \\n55 ECG ELECTRODES  \\n56 GLOVES  \\n57 NEBULISATION KIT  \\n58 ANY KIT WITH NO DETAILS MENTIONED [DELIVERY KIT, ORTHOKIT, RECOVERY KIT, ETC]  \\n59 KIDNEY TRAY  \\n60 MASK  \\n61 OUNCE GLASS  \\n62 OXYGEN MASK  \\n63 PELVIC TRACTION BELT  \\n64 PAN CAN  \\n65 TROLLY COVER  \\n66 UROMETER, URINE JUG  \\n67 AMBULANCE  \\n68 VASOFIX SAFETY  \\nSl. No. Item  \\n1 BABY CHARGES (UNLESS SPECIFIED/INDICATED)  \\n2 HAND WASH  \\n3 SHOE COVER  \\n4 CAPS  \\n5 CRADLE CHARGES  \\n6 COMB  \\n7 EAU -DE-COLOGNE / ROOM FRESHNERS  \\n8 FOOT COVER  \\n9 GOWN  \\n10 SLIPPERS  \\n11 TISSUE PAPER  \\n12 TOOTH PASTE'), Document(id='74fbf3a5-4c72-4ab6-b34b-3886f73abfe4', metadata={'producer': 'PyPDF', 'creator': 'HP Exstream Version 9.0.104 64-bit (DBCS)', 'creationdate': '1/13/2025 06:34:17', 'author': 'Registered to: MAXBUPA', 'title': 'FPPACK_B_PA', 'source': 'Sample HI Policy.pdf', 'total_pages': 68, 'page': 39, 'page_label': '40', 'start_index': 0}, page_content='Policy Document  \\nProduct Name: ReAssure| Product UIN: NBHHLIP25037V032425  5. Mobility: the ability to move indoors from room to room on level surfaces at the normal place of \\nresidence.  \\n6. Transferring: the ability to move from a lying po sition in a bed to a sitting position in an upright chair or \\nwheel chair and vice versa.  \\n \\nConditions - The above coverage is subject to fulfilment of following conditions:  \\na. The Permanent Total Disability is proved through a disability certificate issued by a Medical Board duly \\nconstituted by the Central and/or the State Government; and  \\nb. We will admit a claim under this optional benefit only if the Permanent Total Disability c ontinues for a \\nperiod of at least 6 continuous calendar months from the commencement of the Permanent Total Disability \\nunless it is irreversible, such as in case of amputation/loss of limbs etc; and  \\nc. If the Insured Person dies before a claim has been admit ted under this optional benefit, no amount will be'), Document(id='3ef6c316-7d9c-4868-bf33-0cb1e4c16f4d', metadata={'producer': 'PyPDF', 'creator': 'HP Exstream Version 9.0.104 64-bit (DBCS)', 'creationdate': '1/13/2025 06:34:17', 'author': 'Registered to: MAXBUPA', 'title': 'FPPACK_B_PA', 'source': 'Sample HI Policy.pdf', 'total_pages': 68, 'page': 38, 'page_label': '39', 'start_index': 0}, page_content='Policy Document  \\nProduct Name: ReAssure| Product UIN: NBHHLIP25037V032425  5. Optional Benefits  \\n \\nThe following optional benefits shall apply  under the Policy  only if it is specified in the Policy Schedule . Optional \\nbenefits can be selected by You only at the time of issuance of the First Policy or at Renewal , unless specified \\notherwise,  on payment of the corresponding additional premium.  \\n \\nThe optional benefits ‘ Personal Accident Cover’  and ‘Hospital Cash’  will be payable (only on Reimbursement  \\nbasis) if the conditions mentioned in the below sections are contracted or sustained by the Insured Person \\ncovered under these optional benefits during the Policy Period.  \\n \\nThe applicable optional benefits will be payable subject to the terms, conditions and exclusions of this Policy and \\nsubject always to any sub -limits for the optional benefit as specified in Your Policy Schedule .')]\n",
      "\n",
      "\n",
      "Answer: No, there is no option for room type modification under this policy. The policy only provides a daily cash benefit for shared accommodation during hospitalization, and it does not allow for modification of room type. Thanks for asking!\n"
     ]
    }
   ],
   "source": [
    "result = graph1.invoke({\"question\": \"Is there an option for room type modification under this policy?\"})\n",
    "\n",
    "print(f'Context: {result[\"context\"]}\\n\\n')\n",
    "print(f'Answer: {result[\"answer\"]}')"
   ]
  },
  {
   "cell_type": "code",
   "execution_count": 30,
   "id": "eee63504-609c-4744-9081-3ed9b20ba57a",
   "metadata": {},
   "outputs": [
    {
     "name": "stdout",
     "output_type": "stream",
     "text": [
      "Context: [Document(id='343850a3-42d6-44ae-b416-9cae060571d5', metadata={'producer': 'PyPDF', 'creator': 'HP Exstream Version 9.0.104 64-bit (DBCS)', 'creationdate': '1/13/2025 06:34:17', 'author': 'Registered to: MAXBUPA', 'title': 'FPPACK_B_PA', 'source': 'Sample HI Policy.pdf', 'total_pages': 68, 'page': 43, 'page_label': '44', 'start_index': 1619}, page_content='d. Coverage under the Policy after the expiry of 36 months for any Pre -existing Disease is subject to the same \\nbeing declared at the time of application and accepted by Us.  \\n \\n6.2 Specified disease/procedure waiting period - Code - Excl02  \\na. Expenses related to the treat ment of the listed conditions, surgeries/treatments shall be excluded until the \\nexpiry of 24 months of continuous coverage after the date of inception of the first Policy. This exclusion shall \\nnot be applicable for claims arising due to an Accident (covere d from day 1) or Cancer (covered after 30 -\\ndays waiting period).  \\nb. In case of enhancement of Sum Insured the exclusion shall apply afresh to the extent of Sum Insured \\nincrease.  \\nc. If any of the specified disease/procedure falls under the waiting period specified  for pre -Existing diseases, \\nthen the longer of the two waiting periods shall apply.'), Document(id='8f1a4a1f-8e85-41cc-bdf6-c3380532294d', metadata={'producer': 'PyPDF', 'creator': 'HP Exstream Version 9.0.104 64-bit (DBCS)', 'creationdate': '1/13/2025 06:34:17', 'author': 'Registered to: MAXBUPA', 'title': 'FPPACK_B_PA', 'source': 'Sample HI Policy.pdf', 'total_pages': 68, 'page': 43, 'page_label': '44', 'start_index': 2327}, page_content='increase.  \\nc. If any of the specified disease/procedure falls under the waiting period specified  for pre -Existing diseases, \\nthen the longer of the two waiting periods shall apply.  \\nd. The waiting period for listed conditions shall apply even if contracted after the Policy or declared and \\naccepted without a specific exclusion.  \\ne. If the Insured Person is con tinuously covered without any break as defined under the applicable norms on \\nportability stipulated by IRDAI then waiting period for the same would be reduced to the extent of prior \\ncoverage.  \\nf. List of specific diseases/procedures:  \\na. Pancreatitis and stones in  biliary and urinary system  \\nb. Cataract, glaucoma and retinal detachment  \\nc. Hyperplasia of prostate, hydrocele and spermatocele  \\nd. Prolapse uterus or  cervix, endometriosis,  Fibroids, Polycystic ovarian disease (PCOD), hysterectomy \\n(unless necessitated by Maligna ncy) \\ne. Hemorrhoids, fissure, fistula or abscess of anal and rectal region'), Document(id='82f727d9-372e-4072-b697-b1ac9377bf70', metadata={'producer': 'PyPDF', 'creator': 'HP Exstream Version 9.0.104 64-bit (DBCS)', 'creationdate': '1/13/2025 06:34:17', 'author': 'Registered to: MAXBUPA', 'title': 'FPPACK_B_PA', 'source': 'Sample HI Policy.pdf', 'total_pages': 68, 'page': 55, 'page_label': '56', 'start_index': 1653}, page_content='Specific Waiting periods, waiting period for pre -existing diseases, Moratorium period etc. in the previous policy to the \\nmigrated p olicy.  \\n \\nThe insurer may underwrite the proposal in case of migration, if the insured is not continuously covered for 36 months.  \\n \\n \\n \\n8.15 Portability  \\n \\nA Policyholder has the choice to port his/ her policies from one Insurer to another irrespective of individual or group polic y \\nsubject to the Board approved underwriting policy of the insurers.  \\n \\nThe policyholder is entitled to transfer the credits gained to the extent of the Sum Insured, No Claim Bonus, specific waiting \\nperiods, waiting period for pre -existing disease , Moratorium period etc. from the Existing Insurer to the Acquiring Insurer \\nin the previous policy.   \\n \\nSpecific Terms and conditions  \\n \\n8.16 Renewal  Premium : \\nRenewal  premium will alter based on Age. The reference of age for calculating the premium for Family Floater'), Document(id='f7cc98f5-27cd-4e73-acdb-8435aa9bc82c', metadata={'producer': 'PyPDF', 'creator': 'HP Exstream Version 9.0.104 64-bit (DBCS)', 'creationdate': '1/13/2025 06:34:17', 'author': 'Registered to: MAXBUPA', 'title': 'FPPACK_B_PA', 'source': 'Sample HI Policy.pdf', 'total_pages': 68, 'page': 27, 'page_label': '28', 'start_index': 4131}, page_content='3.1.43  Specific Waiting period means  a period up to 36 months from the commencement of a health insurance policy \\nduring which period specified diseases/treatments (exc ept due to an accident) are not covered. On completion of \\nthe period, diseases/treatments shall be covered provided the policy has been continuously renewed without any \\nbreak  \\n3.1.44  Unproven /Experimental treatment means the treatment including drug experimental t herapy which is \\nnot based on established medical practice in India, is treatment experimental or unproven.  \\n \\n3.2 Specific Definitions')]\n",
      "\n",
      "\n",
      "Answer: The waiting period for pre-existing diseases is 36 months.\n"
     ]
    }
   ],
   "source": [
    "result = graph.invoke({\"question\": \"What is the waiting period for pre-existing diseases?\"})\n",
    "\n",
    "print(f'Context: {result[\"context\"]}\\n\\n')\n",
    "print(f'Answer: {result[\"answer\"]}')"
   ]
  },
  {
   "cell_type": "code",
   "execution_count": 31,
   "id": "64295b74-9361-420c-8a16-c7055c00251a",
   "metadata": {},
   "outputs": [
    {
     "name": "stdout",
     "output_type": "stream",
     "text": [
      "Context: [Document(id='343850a3-42d6-44ae-b416-9cae060571d5', metadata={'producer': 'PyPDF', 'creator': 'HP Exstream Version 9.0.104 64-bit (DBCS)', 'creationdate': '1/13/2025 06:34:17', 'author': 'Registered to: MAXBUPA', 'title': 'FPPACK_B_PA', 'source': 'Sample HI Policy.pdf', 'total_pages': 68, 'page': 43, 'page_label': '44', 'start_index': 1619}, page_content='d. Coverage under the Policy after the expiry of 36 months for any Pre -existing Disease is subject to the same \\nbeing declared at the time of application and accepted by Us.  \\n \\n6.2 Specified disease/procedure waiting period - Code - Excl02  \\na. Expenses related to the treat ment of the listed conditions, surgeries/treatments shall be excluded until the \\nexpiry of 24 months of continuous coverage after the date of inception of the first Policy. This exclusion shall \\nnot be applicable for claims arising due to an Accident (covere d from day 1) or Cancer (covered after 30 -\\ndays waiting period).  \\nb. In case of enhancement of Sum Insured the exclusion shall apply afresh to the extent of Sum Insured \\nincrease.  \\nc. If any of the specified disease/procedure falls under the waiting period specified  for pre -Existing diseases, \\nthen the longer of the two waiting periods shall apply.'), Document(id='8f1a4a1f-8e85-41cc-bdf6-c3380532294d', metadata={'producer': 'PyPDF', 'creator': 'HP Exstream Version 9.0.104 64-bit (DBCS)', 'creationdate': '1/13/2025 06:34:17', 'author': 'Registered to: MAXBUPA', 'title': 'FPPACK_B_PA', 'source': 'Sample HI Policy.pdf', 'total_pages': 68, 'page': 43, 'page_label': '44', 'start_index': 2327}, page_content='increase.  \\nc. If any of the specified disease/procedure falls under the waiting period specified  for pre -Existing diseases, \\nthen the longer of the two waiting periods shall apply.  \\nd. The waiting period for listed conditions shall apply even if contracted after the Policy or declared and \\naccepted without a specific exclusion.  \\ne. If the Insured Person is con tinuously covered without any break as defined under the applicable norms on \\nportability stipulated by IRDAI then waiting period for the same would be reduced to the extent of prior \\ncoverage.  \\nf. List of specific diseases/procedures:  \\na. Pancreatitis and stones in  biliary and urinary system  \\nb. Cataract, glaucoma and retinal detachment  \\nc. Hyperplasia of prostate, hydrocele and spermatocele  \\nd. Prolapse uterus or  cervix, endometriosis,  Fibroids, Polycystic ovarian disease (PCOD), hysterectomy \\n(unless necessitated by Maligna ncy) \\ne. Hemorrhoids, fissure, fistula or abscess of anal and rectal region'), Document(id='82f727d9-372e-4072-b697-b1ac9377bf70', metadata={'producer': 'PyPDF', 'creator': 'HP Exstream Version 9.0.104 64-bit (DBCS)', 'creationdate': '1/13/2025 06:34:17', 'author': 'Registered to: MAXBUPA', 'title': 'FPPACK_B_PA', 'source': 'Sample HI Policy.pdf', 'total_pages': 68, 'page': 55, 'page_label': '56', 'start_index': 1653}, page_content='Specific Waiting periods, waiting period for pre -existing diseases, Moratorium period etc. in the previous policy to the \\nmigrated p olicy.  \\n \\nThe insurer may underwrite the proposal in case of migration, if the insured is not continuously covered for 36 months.  \\n \\n \\n \\n8.15 Portability  \\n \\nA Policyholder has the choice to port his/ her policies from one Insurer to another irrespective of individual or group polic y \\nsubject to the Board approved underwriting policy of the insurers.  \\n \\nThe policyholder is entitled to transfer the credits gained to the extent of the Sum Insured, No Claim Bonus, specific waiting \\nperiods, waiting period for pre -existing disease , Moratorium period etc. from the Existing Insurer to the Acquiring Insurer \\nin the previous policy.   \\n \\nSpecific Terms and conditions  \\n \\n8.16 Renewal  Premium : \\nRenewal  premium will alter based on Age. The reference of age for calculating the premium for Family Floater'), Document(id='f7cc98f5-27cd-4e73-acdb-8435aa9bc82c', metadata={'producer': 'PyPDF', 'creator': 'HP Exstream Version 9.0.104 64-bit (DBCS)', 'creationdate': '1/13/2025 06:34:17', 'author': 'Registered to: MAXBUPA', 'title': 'FPPACK_B_PA', 'source': 'Sample HI Policy.pdf', 'total_pages': 68, 'page': 27, 'page_label': '28', 'start_index': 4131}, page_content='3.1.43  Specific Waiting period means  a period up to 36 months from the commencement of a health insurance policy \\nduring which period specified diseases/treatments (exc ept due to an accident) are not covered. On completion of \\nthe period, diseases/treatments shall be covered provided the policy has been continuously renewed without any \\nbreak  \\n3.1.44  Unproven /Experimental treatment means the treatment including drug experimental t herapy which is \\nnot based on established medical practice in India, is treatment experimental or unproven.  \\n \\n3.2 Specific Definitions')]\n",
      "\n",
      "\n",
      "Answer: According to the policy, the waiting period for pre-existing diseases is 36 months.\n"
     ]
    }
   ],
   "source": [
    "result = graph1.invoke({\"question\": \"What is the waiting period for pre-existing diseases?\"})\n",
    "\n",
    "print(f'Context: {result[\"context\"]}\\n\\n')\n",
    "print(f'Answer: {result[\"answer\"]}')"
   ]
  },
  {
   "cell_type": "code",
   "execution_count": 33,
   "id": "a29cf8bd-1158-4306-8b11-a57fec0569f5",
   "metadata": {},
   "outputs": [
    {
     "name": "stdout",
     "output_type": "stream",
     "text": [
      "Note: you may need to restart the kernel to use updated packages.\n"
     ]
    }
   ],
   "source": [
    "pip install -qU openpyxl"
   ]
  },
  {
   "cell_type": "code",
   "execution_count": 34,
   "id": "ac1986a3-fdeb-4dc8-9f7e-e7c1db60f36e",
   "metadata": {},
   "outputs": [
    {
     "data": {
      "text/html": [
       "<div>\n",
       "<style scoped>\n",
       "    .dataframe tbody tr th:only-of-type {\n",
       "        vertical-align: middle;\n",
       "    }\n",
       "\n",
       "    .dataframe tbody tr th {\n",
       "        vertical-align: top;\n",
       "    }\n",
       "\n",
       "    .dataframe thead th {\n",
       "        text-align: right;\n",
       "    }\n",
       "</style>\n",
       "<table border=\"1\" class=\"dataframe\">\n",
       "  <thead>\n",
       "    <tr style=\"text-align: right;\">\n",
       "      <th></th>\n",
       "      <th>Questions</th>\n",
       "    </tr>\n",
       "  </thead>\n",
       "  <tbody>\n",
       "    <tr>\n",
       "      <th>0</th>\n",
       "      <td>What is the name of the insurance product?</td>\n",
       "    </tr>\n",
       "    <tr>\n",
       "      <th>1</th>\n",
       "      <td>What is the policy number mentioned in the doc...</td>\n",
       "    </tr>\n",
       "    <tr>\n",
       "      <th>2</th>\n",
       "      <td>What is the sum insured for the policyholder?</td>\n",
       "    </tr>\n",
       "    <tr>\n",
       "      <th>3</th>\n",
       "      <td>What is the policyholder's address?</td>\n",
       "    </tr>\n",
       "    <tr>\n",
       "      <th>4</th>\n",
       "      <td>When does the policy start and expire?</td>\n",
       "    </tr>\n",
       "  </tbody>\n",
       "</table>\n",
       "</div>"
      ],
      "text/plain": [
       "                                           Questions\n",
       "0         What is the name of the insurance product?\n",
       "1  What is the policy number mentioned in the doc...\n",
       "2      What is the sum insured for the policyholder?\n",
       "3                What is the policyholder's address?\n",
       "4             When does the policy start and expire?"
      ]
     },
     "execution_count": 34,
     "metadata": {},
     "output_type": "execute_result"
    }
   ],
   "source": [
    "import pandas as pd\n",
    "df=pd.read_excel(\"RAG_Test_Questions.xlsx\")\n",
    "df.head()"
   ]
  },
  {
   "cell_type": "code",
   "execution_count": 44,
   "id": "045aeaac-e6c1-40ab-86b3-8ca21c6342bb",
   "metadata": {},
   "outputs": [
    {
     "name": "stdout",
     "output_type": "stream",
     "text": [
      "<class 'pandas.core.frame.DataFrame'>\n",
      "RangeIndex: 50 entries, 0 to 49\n",
      "Data columns (total 1 columns):\n",
      " #   Column     Non-Null Count  Dtype \n",
      "---  ------     --------------  ----- \n",
      " 0   Questions  50 non-null     object\n",
      "dtypes: object(1)\n",
      "memory usage: 532.0+ bytes\n"
     ]
    }
   ],
   "source": [
    "df.info()"
   ]
  },
  {
   "cell_type": "code",
   "execution_count": 45,
   "id": "f6741412-0e57-4396-966c-4ed4553e2163",
   "metadata": {},
   "outputs": [
    {
     "name": "stdout",
     "output_type": "stream",
     "text": [
      "['What is the name of the insurance product?', 'What is the policy number mentioned in the document?', 'What is the sum insured for the policyholder?', \"What is the policyholder's address?\", 'When does the policy start and expire?', 'What is the plan type chosen (Individual or Family Floater)?', 'What is the premium amount for the policy?', 'What taxes are applicable on the premium?', 'Is a personal accident cover included in the policy?', 'What are the coverage options for sum insured in this policy?', 'Does this policy cover pre-hospitalization expenses?', 'Does this policy cover post-hospitalization expenses?', 'Is air ambulance service covered under this policy?', 'What is the coverage for alternative treatments like Ayurveda or Homeopathy?', 'What is the maximum limit for robotic surgery under modern treatments?', 'Does this policy include home care treatment?', 'Is domiciliary hospitalization covered?', 'Is a second medical opinion service included in this policy?', 'How many days of hospitalization are required for inpatient care to be covered?', 'What is the cash benefit for shared accommodation?', 'What are the general exclusions in this policy?', 'Is cosmetic surgery covered under the policy?', 'Are treatments for obesity and weight control covered?', 'Does this policy cover maternity expenses?', 'Is dental treatment covered under this policy?', 'Are sexually transmitted diseases covered?', 'What is the waiting period for pre-existing diseases?', 'Are self-inflicted injuries covered?', 'What is the exclusion policy for hazardous sports activities?', 'Are treatments taken outside India covered?', 'What is the turnaround time for cashless claim approval?', 'How many days does it take to resolve a grievance?', 'What is the claim submission deadline for reimbursement?', 'What documents are required for claim submission?', 'Where can the insured check the list of network hospitals?', 'How can an insured person track their claim status?', 'Is there a dedicated helpline for claim support?', 'What is the process for availing of cashless hospitalization?', 'Is there a list of unrecognized hospitals in the document?', 'Can a claim be rejected if treatment is taken at an unrecognized hospital?', 'What is the booster benefit in this policy?', 'How does the live healthy discount work?', 'What is the maximum increase in sum insured due to booster benefits?', 'Is there any renewal premium discount based on health metrics?', 'What is the safeguard+ feature in this policy?', 'Is there an option for room type modification under this policy?', 'Does the policy provide benefits for a health check-up?', 'Is there an annual aggregate deductible mentioned in the policy?', 'How does the sum insured safeguard feature work?', 'Can the sum insured be changed during renewal?']\n"
     ]
    }
   ],
   "source": [
    "questions_list=df['Questions'].tolist()\n",
    "print(questions_list)"
   ]
  },
  {
   "cell_type": "code",
   "execution_count": 46,
   "id": "85068fb4-6f3a-4963-bb54-248eb56a214c",
   "metadata": {},
   "outputs": [],
   "source": [
    "batch_input=[{'question':q} for q in questions_list]"
   ]
  },
  {
   "cell_type": "code",
   "execution_count": 52,
   "id": "d247c312-9208-4cdb-b0f9-c3a52e217328",
   "metadata": {},
   "outputs": [],
   "source": [
    "batch_size = 5  # Adjust this value based on limits\n",
    "batch_response=[]\n",
    "for i in range(0, len(batch_input), batch_size):\n",
    "    batch_segment = batch_input[i:i + batch_size]\n",
    "    responses = graph.batch(batch_segment)\n",
    "    batch_response.extend(responses)\n"
   ]
  },
  {
   "cell_type": "code",
   "execution_count": 57,
   "id": "4e13da8c-6e54-4e18-8405-a1c0e717420e",
   "metadata": {},
   "outputs": [
    {
     "data": {
      "text/plain": [
       "50"
      ]
     },
     "execution_count": 57,
     "metadata": {},
     "output_type": "execute_result"
    }
   ],
   "source": [
    "len(batch_response)"
   ]
  },
  {
   "cell_type": "code",
   "execution_count": 55,
   "id": "a2d68acc-234c-465a-b646-423e0ff6247c",
   "metadata": {},
   "outputs": [
    {
     "name": "stdout",
     "output_type": "stream",
     "text": [
      "Q: What is the name of the insurance product?\n",
      "A: The name of the insurance product is ReAssure.\n",
      "\n",
      "Q: What is the policy number mentioned in the document?\n",
      "A: I don't know the policy number mentioned in the document.\n",
      "\n",
      "Q: What is the sum insured for the policyholder?\n",
      "A: The sum insured for the policyholder is not explicitly stated in the provided context. It seems to be calculated based on the Base Sum Insured, Booster Benefit, and Sum Insured Safeguard/Safeguard+ (if applicable), but the actual amount is not mentioned.\n",
      "\n",
      "Q: What is the policyholder's address?\n",
      "A: The policyholder's address is: Niva Bupa Health Insurance Company Limited, D-5, 2nd Floor, Logix Infotech Park, opp. Metro Station, Sector 59, Noida, Uttar Pradesh, 201301.\n",
      "\n",
      "Q: When does the policy start and expire?\n",
      "A: According to the Policy Document, the Policy Period is 2 years, and it starts and ends on specific dates specified in the Policy Schedule.\n",
      "\n",
      "Q: What is the plan type chosen (Individual or Family Floater)?\n",
      "A: The plan type chosen is Family Floater.\n",
      "\n",
      "Q: What is the premium amount for the policy?\n",
      "A: The premium amount for the policy is Rs. 12,824.00.\n",
      "\n",
      "Q: What taxes are applicable on the premium?\n",
      "A: The Integrated Goods and Service Tax (IGST) of 18% is applicable on the premium.\n",
      "\n",
      "Q: Is a personal accident cover included in the policy?\n",
      "A: Yes, a personal accident cover is included in the policy, but it is an optional benefit that requires a separate schedule and has its own set of limitations and exclusions. The coverage provides benefits in case of death or injury resulting from an accident, and the sum insured is specified in the policy schedule.\n",
      "\n",
      "Q: What are the coverage options for sum insured in this policy?\n",
      "A: The coverage options for sum insured in this policy include the Base Sum Insured, Booster Benefit, and Sum Insured Safeguard+/Safeguard (if applicable) for Family Floater Policy. The sum insured can be reduced by claims paid under certain benefits, unless otherwise specified. However, the base sum insured remains the same unless specified otherwise.\n",
      "\n",
      "Q: Does this policy cover pre-hospitalization expenses?\n",
      "A: Yes, this policy covers pre-hospitalization expenses, but only if they are incurred for the same condition for which the insured person's hospitalization was required and are incurred within the pre-defined number of days preceding hospitalization.\n",
      "\n",
      "Q: Does this policy cover post-hospitalization expenses?\n",
      "A: Yes, this policy covers post-hospitalization expenses, as stated in section 4.7, which indemnifies the insured person's post-hospitalization medical expenses incurred following an illness or injury.\n",
      "\n",
      "Q: Is air ambulance service covered under this policy?\n",
      "A: Yes, air ambulance service is covered under this policy, but only under certain conditions, such as the insured person's medical condition requiring immediate and rapid ambulance transportation to a hospital or medical center. The air ambulance provider must also be registered in India.\n",
      "\n",
      "Q: What is the coverage for alternative treatments like Ayurveda or Homeopathy?\n",
      "A: The coverage for alternative treatments like Ayurveda or Homeopathy is provided under Section 4.3, and it indemnifies medical expenses incurred on treatment taken under Ayurveda, Unani, Siddha, and Homeopathy, subject to certain conditions. The treatment must be taken in an AYUSH hospital, and the insured person's pre-hospitalization and post-hospitalization medical expenses are also covered.\n",
      "\n",
      "Q: What is the maximum limit for robotic surgery under modern treatments?\n",
      "A: The maximum limit for robotic surgery under modern treatments is INR 1 Lac, except for specific exceptions mentioned in the context.\n",
      "\n",
      "Q: Does this policy include home care treatment?\n",
      "A: According to the policy document, home care treatment is covered, specifically for chemotherapy or dialysis, as long as the services are offered by a registered homecare provider. However, treatment taken by automation machine for peritoneal dialysis is excluded.\n",
      "\n",
      "Q: Is domiciliary hospitalization covered?\n",
      "A: Yes, domiciliary hospitalization is covered under Section 4.4, but it is subject to certain conditions, including a minimum of 3 consecutive days of hospitalization and written confirmation from the treating medical practitioner.\n",
      "\n",
      "Q: Is a second medical opinion service included in this policy?\n",
      "A: Yes, a second medical opinion service is included in this policy, as stated in Section 4.16.\n",
      "\n",
      "Q: How many days of hospitalization are required for inpatient care to be covered?\n",
      "A: According to the provided context, there is no specific mention of the number of days of hospitalization required for inpatient care to be covered.\n",
      "\n",
      "Q: What is the cash benefit for shared accommodation?\n",
      "A: According to the context, the cash benefit for shared accommodation is Rs. 800 per day, with a maximum of Rs. 4,800.\n",
      "\n",
      "Q: What are the general exclusions in this policy?\n",
      "A: The general exclusions in this policy include Pre-existing Diseases, Change-of-Gender treatments, Cosmetic or plastic Surgery, Hazardous or Adventure sports, Breach of law, Excluded Providers, Treatment for addiction, and treatments received in certain establishments or private beds. These exclusions apply unless specifically mentioned elsewhere in the Policy. Additionally, there are standard exclusions listed, including Day Care procedure, Refractive Error, Unproven Treatments, Sterility and Infertility, and Maternity Expenses.\n",
      "\n",
      "Q: Is cosmetic surgery covered under the policy?\n",
      "A: Based on the provided context, cosmetic surgery is not covered under the policy unless it is for reconstruction following an accident, burn, or cancer, or as part of medically necessary treatment to remove a direct and demonstrable bodily function.\n",
      "\n",
      "Q: Are treatments for obesity and weight control covered?\n",
      "A: Treatments for obesity and weight control are not covered, as they do not meet the conditions specified in section 6.6, which requires a BMI of 40 or higher, or a BMI of 35 or higher with certain severe co-morbidities, and a surgical treatment plan supported by clinical protocols.\n",
      "\n",
      "Q: Does this policy cover maternity expenses?\n",
      "A: I don't know. The context provided does not specifically mention sterility and infertility expenses, but it does mention maternity expenses under Section 6.18, which covers medical treatment expenses traceable to childbirth.\n",
      "\n",
      "Q: Is dental treatment covered under this policy?\n",
      "A: Based on the context, dental treatment is covered under the policy, but only if it is required by an Insured Person while hospitalized due to an accident, as mentioned in Section 6.24 Dental/oral treatment.\n",
      "\n",
      "Q: Are sexually transmitted diseases covered?\n",
      "A: According to the context, yes, sexually transmitted diseases (other than HIV/AIDS) are covered under Screening, prevention and treatment for sexually related infection or disease (other than HIV/AIDS).\n",
      "\n",
      "Q: What is the waiting period for pre-existing diseases?\n",
      "A: The waiting period for pre-existing diseases is 36 months from the commencement of a health insurance policy.\n",
      "\n",
      "Q: Are self-inflicted injuries covered?\n",
      "A: According to the provided context, self-inflicted injuries are listed as a permanent exclusion for Personal Accident Cover, stating that the insurer will not be liable to make any payment if the claim is attributable to or based on self-inflicted injury, whether the Insured Person is medically sane or insane.\n",
      "\n",
      "Q: What is the exclusion policy for hazardous sports activities?\n",
      "A: The exclusion policy for hazardous sports activities is as follows: Expenses related to any treatment necessitated due to participation as a professional in hazardous or adventure sports, including but not limited to para-jumping, rock climbing, mountaineering, rafting, motor racing, horse racing, or scuba diving, hand gliding, sky diving, deep-sea diving (Code -Excl09).\n",
      "\n",
      "Q: Are treatments taken outside India covered?\n",
      "A: Based on the provided context, treatments taken outside India are not covered. According to section 6.29, \"Any treatment or medical services received outside the geographical limits of India\" is not covered.\n",
      "\n",
      "Q: What is the turnaround time for cashless claim approval?\n",
      "A: The turnaround time for cashless claim approval is 3 hours from the receipt of the discharge authorization request from the hospital.\n",
      "\n",
      "Q: How many days does it take to resolve a grievance?\n",
      "A: According to the provided context, it takes 14 days to resolve a grievance from the date of receipt of the grievance.\n",
      "\n",
      "Q: What is the claim submission deadline for reimbursement?\n",
      "A: I don't know the specific claim submission deadline for reimbursement, as the provided context does not mention a specific deadline. However, it does mention that claims documentation should be submitted at the earliest possible time.\n",
      "\n",
      "Q: What documents are required for claim submission?\n",
      "A: For medical claims, the required documents for claim submission are: claim form, details of past medical history record, first and subsequent consultation, and age/identity proof document of the Insured Person.\n",
      "\n",
      "Q: Where can the insured check the list of network hospitals?\n",
      "A: The insured can check the list of network hospitals by visiting the Niva Bupa Health Insurance website at www.nivabupa.com.\n",
      "\n",
      "Q: How can an insured person track their claim status?\n",
      "A: To track the claim status, you can submit all claims-related documents, including those for claims within the deductible amount, to We/Our Service Provider. You can also provide necessary information and documentation, such as the claim form, medical history records, and identity proof documents.\n",
      "\n",
      "Q: Is there a dedicated helpline for claim support?\n",
      "A: Yes, there is a dedicated helpline for claim support. The helpline number is 1860-500-8888.\n",
      "\n",
      "Q: What is the process for availing of cashless hospitalization?\n",
      "A: To avail of cashless hospitalization, the insured person must contact the insurance provider at least 72 hours prior to planned treatment or within 48 hours of hospitalization in an emergency. Once the request for pre-authorization is granted, the treatment must take place within 15 days of the pre-authorization date at a Network Provider.\n",
      "\n",
      "Q: Is there a list of unrecognized hospitals in the document?\n",
      "A: Yes, there is a list of unrecognized hospitals in the document. It is listed under the section \"List of Un-recognized Hospitals\" with 14 entries.\n",
      "\n",
      "Q: Can a claim be rejected if treatment is taken at an unrecognized hospital?\n",
      "A: A claim can be rejected if treatment is taken at an unrecognized hospital, as it is not a valid or authorized treatment center. The policy explicitly states that expenses incurred towards treatment in any hospital or by any medical practitioner specifically excluded by the policy and disclosed in the website/notified to the policyholders are not admissible.\n",
      "\n",
      "Q: What is the booster benefit in this policy?\n",
      "A: The booster benefit in this policy provides a cumulative bonus by increasing the Sum Insured by 50% of the Base Sum Insured of the immediately preceding Policy Year per claim-free Policy Year, up to a maximum of 100% of the Base Sum Insured.\n",
      "\n",
      "Q: How does the live healthy discount work?\n",
      "A: The Live Healthy benefit offers a discount on renewal premium if the eligible Insured Person achieves the health points target on the mobile application provided by the insurance company. Health points are earned by taking steps every day, with 1 health point earned for every completed 1000 steps. The discount is applicable for Insured Persons aged 18 years and above, and the points accumulated in the last 3 months of the Policy Period are not considered for discount on premium for the first renewal.\n",
      "\n",
      "Q: What is the maximum increase in sum insured due to booster benefits?\n",
      "A: According to the context, the maximum increase in sum insured due to booster benefits is 100% of the Base Sum Insured.\n",
      "\n",
      "Q: Is there any renewal premium discount based on health metrics?\n",
      "A: Yes, there is a renewal premium discount based on health metrics. The discount is offered if the eligible Insured Person(s) achieves the health points target on the mobile application provided by the insurer. The health points are earned for every completed 1000 steps taken by the Insured Person.\n",
      "\n",
      "Q: What is the safeguard+ feature in this policy?\n",
      "A: The Safeguard+ feature in this policy includes Claim Safeguard+: Non-payable items paid up to Sum Insured (List I, II, III, IV), Booster Benefit Safeguard+: No impact on Booster benefit if claim in a policy year is less than Rs. 10,000, and Sum Insured Safeguard+: CPI linked increase in Base Sum Insured.\n",
      "\n",
      "Q: Is there an option for room type modification under this policy?\n",
      "A: There is no option for room type modification under this policy. The policy only provides a cash benefit for shared accommodation during hospitalization, and the type of room is not specified.\n",
      "\n",
      "Q: Does the policy provide benefits for a health check-up?\n",
      "A: Yes, the policy provides benefits for a health check-up, specifically for diagnostic tests, up to a sub-limit specified in the Policy Schedule. This benefit is only available once a year and must be done within 7 days.\n",
      "\n",
      "Q: Is there an annual aggregate deductible mentioned in the policy?\n",
      "A: Yes, there is an annual aggregate deductible mentioned in the policy, which is applicable to the aggregate of all eligible claims as per policy terms and conditions. The deductible limit needs to be exceeded within the same policy year for the company's liability to make payment to commence.\n",
      "\n",
      "Q: How does the sum insured safeguard feature work?\n",
      "A: The Sum Insured Safeguard+ feature reduces the sum insured at renewal if any claim or multiple claims in the previous policy year do not exceed the overall amount of Rs. 100,000. On the other hand, the sum insured is increased on a cumulative basis at each policy year based on the inflation rate in the previous year. This increase is applicable only to the Base Sum Insured and not to booster benefits or other benefits that lead to an increase in Sum Insured.\n",
      "\n",
      "Q: Can the sum insured be changed during renewal?\n",
      "A: Yes, the sum insured can be changed during renewal, subject to underwriting by the company.\n",
      "\n"
     ]
    }
   ],
   "source": [
    "for q, response in zip(questions_list, batch_response):\n",
    "    print(f\"Q: {q}\\nA: {response['answer']}\\n\")"
   ]
  },
  {
   "cell_type": "code",
   "execution_count": 58,
   "id": "ee572c4f-84be-4f9f-b491-e7f50a5f8955",
   "metadata": {},
   "outputs": [
    {
     "ename": "OSError",
     "evalue": "gpt2 is not a local folder and is not a valid model identifier listed on 'https://huggingface.co/models'\nIf this is a private repository, make sure to pass a token having permission to this repo either by logging in with `huggingface-cli login` or by passing `token=<your_token>`",
     "output_type": "error",
     "traceback": [
      "\u001b[0;31m---------------------------------------------------------------------------\u001b[0m",
      "\u001b[0;31mHTTPError\u001b[0m                                 Traceback (most recent call last)",
      "File \u001b[0;32m/Applications/anaconda3/envs/misenv/lib/python3.12/site-packages/huggingface_hub/utils/_errors.py:304\u001b[0m, in \u001b[0;36mhf_raise_for_status\u001b[0;34m(response, endpoint_name)\u001b[0m\n\u001b[1;32m    303\u001b[0m \u001b[38;5;28;01mtry\u001b[39;00m:\n\u001b[0;32m--> 304\u001b[0m     response\u001b[38;5;241m.\u001b[39mraise_for_status()\n\u001b[1;32m    305\u001b[0m \u001b[38;5;28;01mexcept\u001b[39;00m HTTPError \u001b[38;5;28;01mas\u001b[39;00m e:\n",
      "File \u001b[0;32m/Applications/anaconda3/envs/misenv/lib/python3.12/site-packages/requests/models.py:1024\u001b[0m, in \u001b[0;36mResponse.raise_for_status\u001b[0;34m(self)\u001b[0m\n\u001b[1;32m   1023\u001b[0m \u001b[38;5;28;01mif\u001b[39;00m http_error_msg:\n\u001b[0;32m-> 1024\u001b[0m     \u001b[38;5;28;01mraise\u001b[39;00m HTTPError(http_error_msg, response\u001b[38;5;241m=\u001b[39m\u001b[38;5;28mself\u001b[39m)\n",
      "\u001b[0;31mHTTPError\u001b[0m: 401 Client Error: Unauthorized for url: https://huggingface.co/gpt2/resolve/main/tokenizer_config.json",
      "\nThe above exception was the direct cause of the following exception:\n",
      "\u001b[0;31mRepositoryNotFoundError\u001b[0m                   Traceback (most recent call last)",
      "File \u001b[0;32m/Applications/anaconda3/envs/misenv/lib/python3.12/site-packages/transformers/utils/hub.py:399\u001b[0m, in \u001b[0;36mcached_file\u001b[0;34m(path_or_repo_id, filename, cache_dir, force_download, resume_download, proxies, token, revision, local_files_only, subfolder, repo_type, user_agent, _raise_exceptions_for_gated_repo, _raise_exceptions_for_missing_entries, _raise_exceptions_for_connection_errors, _commit_hash, **deprecated_kwargs)\u001b[0m\n\u001b[1;32m    397\u001b[0m \u001b[38;5;28;01mtry\u001b[39;00m:\n\u001b[1;32m    398\u001b[0m     \u001b[38;5;66;03m# Load from URL or cache if already cached\u001b[39;00m\n\u001b[0;32m--> 399\u001b[0m     resolved_file \u001b[38;5;241m=\u001b[39m hf_hub_download(\n\u001b[1;32m    400\u001b[0m         path_or_repo_id,\n\u001b[1;32m    401\u001b[0m         filename,\n\u001b[1;32m    402\u001b[0m         subfolder\u001b[38;5;241m=\u001b[39m\u001b[38;5;28;01mNone\u001b[39;00m \u001b[38;5;28;01mif\u001b[39;00m \u001b[38;5;28mlen\u001b[39m(subfolder) \u001b[38;5;241m==\u001b[39m \u001b[38;5;241m0\u001b[39m \u001b[38;5;28;01melse\u001b[39;00m subfolder,\n\u001b[1;32m    403\u001b[0m         repo_type\u001b[38;5;241m=\u001b[39mrepo_type,\n\u001b[1;32m    404\u001b[0m         revision\u001b[38;5;241m=\u001b[39mrevision,\n\u001b[1;32m    405\u001b[0m         cache_dir\u001b[38;5;241m=\u001b[39mcache_dir,\n\u001b[1;32m    406\u001b[0m         user_agent\u001b[38;5;241m=\u001b[39muser_agent,\n\u001b[1;32m    407\u001b[0m         force_download\u001b[38;5;241m=\u001b[39mforce_download,\n\u001b[1;32m    408\u001b[0m         proxies\u001b[38;5;241m=\u001b[39mproxies,\n\u001b[1;32m    409\u001b[0m         resume_download\u001b[38;5;241m=\u001b[39mresume_download,\n\u001b[1;32m    410\u001b[0m         token\u001b[38;5;241m=\u001b[39mtoken,\n\u001b[1;32m    411\u001b[0m         local_files_only\u001b[38;5;241m=\u001b[39mlocal_files_only,\n\u001b[1;32m    412\u001b[0m     )\n\u001b[1;32m    413\u001b[0m \u001b[38;5;28;01mexcept\u001b[39;00m GatedRepoError \u001b[38;5;28;01mas\u001b[39;00m e:\n",
      "File \u001b[0;32m/Applications/anaconda3/envs/misenv/lib/python3.12/site-packages/huggingface_hub/utils/_validators.py:114\u001b[0m, in \u001b[0;36mvalidate_hf_hub_args.<locals>._inner_fn\u001b[0;34m(*args, **kwargs)\u001b[0m\n\u001b[1;32m    112\u001b[0m     kwargs \u001b[38;5;241m=\u001b[39m smoothly_deprecate_use_auth_token(fn_name\u001b[38;5;241m=\u001b[39mfn\u001b[38;5;241m.\u001b[39m\u001b[38;5;18m__name__\u001b[39m, has_token\u001b[38;5;241m=\u001b[39mhas_token, kwargs\u001b[38;5;241m=\u001b[39mkwargs)\n\u001b[0;32m--> 114\u001b[0m \u001b[38;5;28;01mreturn\u001b[39;00m fn(\u001b[38;5;241m*\u001b[39margs, \u001b[38;5;241m*\u001b[39m\u001b[38;5;241m*\u001b[39mkwargs)\n",
      "File \u001b[0;32m/Applications/anaconda3/envs/misenv/lib/python3.12/site-packages/huggingface_hub/file_download.py:1221\u001b[0m, in \u001b[0;36mhf_hub_download\u001b[0;34m(repo_id, filename, subfolder, repo_type, revision, library_name, library_version, cache_dir, local_dir, user_agent, force_download, proxies, etag_timeout, token, local_files_only, headers, endpoint, legacy_cache_layout, resume_download, force_filename, local_dir_use_symlinks)\u001b[0m\n\u001b[1;32m   1220\u001b[0m \u001b[38;5;28;01melse\u001b[39;00m:\n\u001b[0;32m-> 1221\u001b[0m     \u001b[38;5;28;01mreturn\u001b[39;00m _hf_hub_download_to_cache_dir(\n\u001b[1;32m   1222\u001b[0m         \u001b[38;5;66;03m# Destination\u001b[39;00m\n\u001b[1;32m   1223\u001b[0m         cache_dir\u001b[38;5;241m=\u001b[39mcache_dir,\n\u001b[1;32m   1224\u001b[0m         \u001b[38;5;66;03m# File info\u001b[39;00m\n\u001b[1;32m   1225\u001b[0m         repo_id\u001b[38;5;241m=\u001b[39mrepo_id,\n\u001b[1;32m   1226\u001b[0m         filename\u001b[38;5;241m=\u001b[39mfilename,\n\u001b[1;32m   1227\u001b[0m         repo_type\u001b[38;5;241m=\u001b[39mrepo_type,\n\u001b[1;32m   1228\u001b[0m         revision\u001b[38;5;241m=\u001b[39mrevision,\n\u001b[1;32m   1229\u001b[0m         \u001b[38;5;66;03m# HTTP info\u001b[39;00m\n\u001b[1;32m   1230\u001b[0m         headers\u001b[38;5;241m=\u001b[39mheaders,\n\u001b[1;32m   1231\u001b[0m         proxies\u001b[38;5;241m=\u001b[39mproxies,\n\u001b[1;32m   1232\u001b[0m         etag_timeout\u001b[38;5;241m=\u001b[39metag_timeout,\n\u001b[1;32m   1233\u001b[0m         endpoint\u001b[38;5;241m=\u001b[39mendpoint,\n\u001b[1;32m   1234\u001b[0m         \u001b[38;5;66;03m# Additional options\u001b[39;00m\n\u001b[1;32m   1235\u001b[0m         local_files_only\u001b[38;5;241m=\u001b[39mlocal_files_only,\n\u001b[1;32m   1236\u001b[0m         force_download\u001b[38;5;241m=\u001b[39mforce_download,\n\u001b[1;32m   1237\u001b[0m     )\n",
      "File \u001b[0;32m/Applications/anaconda3/envs/misenv/lib/python3.12/site-packages/huggingface_hub/file_download.py:1325\u001b[0m, in \u001b[0;36m_hf_hub_download_to_cache_dir\u001b[0;34m(cache_dir, repo_id, filename, repo_type, revision, headers, proxies, etag_timeout, endpoint, local_files_only, force_download)\u001b[0m\n\u001b[1;32m   1324\u001b[0m     \u001b[38;5;66;03m# Otherwise, raise appropriate error\u001b[39;00m\n\u001b[0;32m-> 1325\u001b[0m     _raise_on_head_call_error(head_call_error, force_download, local_files_only)\n\u001b[1;32m   1327\u001b[0m \u001b[38;5;66;03m# From now on, etag, commit_hash, url and size are not None.\u001b[39;00m\n",
      "File \u001b[0;32m/Applications/anaconda3/envs/misenv/lib/python3.12/site-packages/huggingface_hub/file_download.py:1823\u001b[0m, in \u001b[0;36m_raise_on_head_call_error\u001b[0;34m(head_call_error, force_download, local_files_only)\u001b[0m\n\u001b[1;32m   1821\u001b[0m \u001b[38;5;28;01melif\u001b[39;00m \u001b[38;5;28misinstance\u001b[39m(head_call_error, RepositoryNotFoundError) \u001b[38;5;129;01mor\u001b[39;00m \u001b[38;5;28misinstance\u001b[39m(head_call_error, GatedRepoError):\n\u001b[1;32m   1822\u001b[0m     \u001b[38;5;66;03m# Repo not found or gated => let's raise the actual error\u001b[39;00m\n\u001b[0;32m-> 1823\u001b[0m     \u001b[38;5;28;01mraise\u001b[39;00m head_call_error\n\u001b[1;32m   1824\u001b[0m \u001b[38;5;28;01melse\u001b[39;00m:\n\u001b[1;32m   1825\u001b[0m     \u001b[38;5;66;03m# Otherwise: most likely a connection issue or Hub downtime => let's warn the user\u001b[39;00m\n",
      "File \u001b[0;32m/Applications/anaconda3/envs/misenv/lib/python3.12/site-packages/huggingface_hub/file_download.py:1722\u001b[0m, in \u001b[0;36m_get_metadata_or_catch_error\u001b[0;34m(repo_id, filename, repo_type, revision, endpoint, proxies, etag_timeout, headers, local_files_only, relative_filename, storage_folder)\u001b[0m\n\u001b[1;32m   1721\u001b[0m \u001b[38;5;28;01mtry\u001b[39;00m:\n\u001b[0;32m-> 1722\u001b[0m     metadata \u001b[38;5;241m=\u001b[39m get_hf_file_metadata(url\u001b[38;5;241m=\u001b[39murl, proxies\u001b[38;5;241m=\u001b[39mproxies, timeout\u001b[38;5;241m=\u001b[39metag_timeout, headers\u001b[38;5;241m=\u001b[39mheaders)\n\u001b[1;32m   1723\u001b[0m \u001b[38;5;28;01mexcept\u001b[39;00m EntryNotFoundError \u001b[38;5;28;01mas\u001b[39;00m http_error:\n",
      "File \u001b[0;32m/Applications/anaconda3/envs/misenv/lib/python3.12/site-packages/huggingface_hub/utils/_validators.py:114\u001b[0m, in \u001b[0;36mvalidate_hf_hub_args.<locals>._inner_fn\u001b[0;34m(*args, **kwargs)\u001b[0m\n\u001b[1;32m    112\u001b[0m     kwargs \u001b[38;5;241m=\u001b[39m smoothly_deprecate_use_auth_token(fn_name\u001b[38;5;241m=\u001b[39mfn\u001b[38;5;241m.\u001b[39m\u001b[38;5;18m__name__\u001b[39m, has_token\u001b[38;5;241m=\u001b[39mhas_token, kwargs\u001b[38;5;241m=\u001b[39mkwargs)\n\u001b[0;32m--> 114\u001b[0m \u001b[38;5;28;01mreturn\u001b[39;00m fn(\u001b[38;5;241m*\u001b[39margs, \u001b[38;5;241m*\u001b[39m\u001b[38;5;241m*\u001b[39mkwargs)\n",
      "File \u001b[0;32m/Applications/anaconda3/envs/misenv/lib/python3.12/site-packages/huggingface_hub/file_download.py:1645\u001b[0m, in \u001b[0;36mget_hf_file_metadata\u001b[0;34m(url, token, proxies, timeout, library_name, library_version, user_agent, headers)\u001b[0m\n\u001b[1;32m   1644\u001b[0m \u001b[38;5;66;03m# Retrieve metadata\u001b[39;00m\n\u001b[0;32m-> 1645\u001b[0m r \u001b[38;5;241m=\u001b[39m _request_wrapper(\n\u001b[1;32m   1646\u001b[0m     method\u001b[38;5;241m=\u001b[39m\u001b[38;5;124m\"\u001b[39m\u001b[38;5;124mHEAD\u001b[39m\u001b[38;5;124m\"\u001b[39m,\n\u001b[1;32m   1647\u001b[0m     url\u001b[38;5;241m=\u001b[39murl,\n\u001b[1;32m   1648\u001b[0m     headers\u001b[38;5;241m=\u001b[39mheaders,\n\u001b[1;32m   1649\u001b[0m     allow_redirects\u001b[38;5;241m=\u001b[39m\u001b[38;5;28;01mFalse\u001b[39;00m,\n\u001b[1;32m   1650\u001b[0m     follow_relative_redirects\u001b[38;5;241m=\u001b[39m\u001b[38;5;28;01mTrue\u001b[39;00m,\n\u001b[1;32m   1651\u001b[0m     proxies\u001b[38;5;241m=\u001b[39mproxies,\n\u001b[1;32m   1652\u001b[0m     timeout\u001b[38;5;241m=\u001b[39mtimeout,\n\u001b[1;32m   1653\u001b[0m )\n\u001b[1;32m   1654\u001b[0m hf_raise_for_status(r)\n",
      "File \u001b[0;32m/Applications/anaconda3/envs/misenv/lib/python3.12/site-packages/huggingface_hub/file_download.py:372\u001b[0m, in \u001b[0;36m_request_wrapper\u001b[0;34m(method, url, follow_relative_redirects, **params)\u001b[0m\n\u001b[1;32m    371\u001b[0m \u001b[38;5;28;01mif\u001b[39;00m follow_relative_redirects:\n\u001b[0;32m--> 372\u001b[0m     response \u001b[38;5;241m=\u001b[39m _request_wrapper(\n\u001b[1;32m    373\u001b[0m         method\u001b[38;5;241m=\u001b[39mmethod,\n\u001b[1;32m    374\u001b[0m         url\u001b[38;5;241m=\u001b[39murl,\n\u001b[1;32m    375\u001b[0m         follow_relative_redirects\u001b[38;5;241m=\u001b[39m\u001b[38;5;28;01mFalse\u001b[39;00m,\n\u001b[1;32m    376\u001b[0m         \u001b[38;5;241m*\u001b[39m\u001b[38;5;241m*\u001b[39mparams,\n\u001b[1;32m    377\u001b[0m     )\n\u001b[1;32m    379\u001b[0m     \u001b[38;5;66;03m# If redirection, we redirect only relative paths.\u001b[39;00m\n\u001b[1;32m    380\u001b[0m     \u001b[38;5;66;03m# This is useful in case of a renamed repository.\u001b[39;00m\n",
      "File \u001b[0;32m/Applications/anaconda3/envs/misenv/lib/python3.12/site-packages/huggingface_hub/file_download.py:396\u001b[0m, in \u001b[0;36m_request_wrapper\u001b[0;34m(method, url, follow_relative_redirects, **params)\u001b[0m\n\u001b[1;32m    395\u001b[0m response \u001b[38;5;241m=\u001b[39m get_session()\u001b[38;5;241m.\u001b[39mrequest(method\u001b[38;5;241m=\u001b[39mmethod, url\u001b[38;5;241m=\u001b[39murl, \u001b[38;5;241m*\u001b[39m\u001b[38;5;241m*\u001b[39mparams)\n\u001b[0;32m--> 396\u001b[0m hf_raise_for_status(response)\n\u001b[1;32m    397\u001b[0m \u001b[38;5;28;01mreturn\u001b[39;00m response\n",
      "File \u001b[0;32m/Applications/anaconda3/envs/misenv/lib/python3.12/site-packages/huggingface_hub/utils/_errors.py:352\u001b[0m, in \u001b[0;36mhf_raise_for_status\u001b[0;34m(response, endpoint_name)\u001b[0m\n\u001b[1;32m    344\u001b[0m     message \u001b[38;5;241m=\u001b[39m (\n\u001b[1;32m    345\u001b[0m         \u001b[38;5;124mf\u001b[39m\u001b[38;5;124m\"\u001b[39m\u001b[38;5;132;01m{\u001b[39;00mresponse\u001b[38;5;241m.\u001b[39mstatus_code\u001b[38;5;132;01m}\u001b[39;00m\u001b[38;5;124m Client Error.\u001b[39m\u001b[38;5;124m\"\u001b[39m\n\u001b[1;32m    346\u001b[0m         \u001b[38;5;241m+\u001b[39m \u001b[38;5;124m\"\u001b[39m\u001b[38;5;130;01m\\n\u001b[39;00m\u001b[38;5;130;01m\\n\u001b[39;00m\u001b[38;5;124m\"\u001b[39m\n\u001b[0;32m   (...)\u001b[0m\n\u001b[1;32m    350\u001b[0m         \u001b[38;5;124m\"\u001b[39m\u001b[38;5;124m make sure you are authenticated.\u001b[39m\u001b[38;5;124m\"\u001b[39m\n\u001b[1;32m    351\u001b[0m     )\n\u001b[0;32m--> 352\u001b[0m     \u001b[38;5;28;01mraise\u001b[39;00m RepositoryNotFoundError(message, response) \u001b[38;5;28;01mfrom\u001b[39;00m \u001b[38;5;21;01me\u001b[39;00m\n\u001b[1;32m    354\u001b[0m \u001b[38;5;28;01melif\u001b[39;00m response\u001b[38;5;241m.\u001b[39mstatus_code \u001b[38;5;241m==\u001b[39m \u001b[38;5;241m400\u001b[39m:\n",
      "\u001b[0;31mRepositoryNotFoundError\u001b[0m: 401 Client Error. (Request ID: Root=1-67c49e85-20042bde562d52bf2db3ca53;baa58782-176c-4d2c-954d-39ef7379a873)\n\nRepository Not Found for url: https://huggingface.co/gpt2/resolve/main/tokenizer_config.json.\nPlease make sure you specified the correct `repo_id` and `repo_type`.\nIf you are trying to access a private or gated repo, make sure you are authenticated.\nInvalid credentials in Authorization header",
      "\nThe above exception was the direct cause of the following exception:\n",
      "\u001b[0;31mOSError\u001b[0m                                   Traceback (most recent call last)",
      "Cell \u001b[0;32mIn[58], line 3\u001b[0m\n\u001b[1;32m      1\u001b[0m \u001b[38;5;28;01mfrom\u001b[39;00m \u001b[38;5;21;01mtransformers\u001b[39;00m \u001b[38;5;28;01mimport\u001b[39;00m GPT2LMHeadModel, GPT2Tokenizer\n\u001b[0;32m----> 3\u001b[0m tokenizer \u001b[38;5;241m=\u001b[39m GPT2Tokenizer\u001b[38;5;241m.\u001b[39mfrom_pretrained(\u001b[38;5;124m\"\u001b[39m\u001b[38;5;124mgpt2\u001b[39m\u001b[38;5;124m\"\u001b[39m)\n\u001b[1;32m      4\u001b[0m model \u001b[38;5;241m=\u001b[39m GPT2LMHeadModel\u001b[38;5;241m.\u001b[39mfrom_pretrained(\u001b[38;5;124m\"\u001b[39m\u001b[38;5;124mgpt2\u001b[39m\u001b[38;5;124m\"\u001b[39m)\n\u001b[1;32m      6\u001b[0m text \u001b[38;5;241m=\u001b[39m \u001b[38;5;124m\"\u001b[39m\u001b[38;5;124mNike\u001b[39m\u001b[38;5;124m'\u001b[39m\u001b[38;5;124ms revenue in 2023 was $51.2 billion.\u001b[39m\u001b[38;5;124m\"\u001b[39m\n",
      "File \u001b[0;32m/Applications/anaconda3/envs/misenv/lib/python3.12/site-packages/transformers/tokenization_utils_base.py:2029\u001b[0m, in \u001b[0;36mPreTrainedTokenizerBase.from_pretrained\u001b[0;34m(cls, pretrained_model_name_or_path, cache_dir, force_download, local_files_only, token, revision, trust_remote_code, *init_inputs, **kwargs)\u001b[0m\n\u001b[1;32m   2026\u001b[0m \u001b[38;5;28;01mif\u001b[39;00m \u001b[38;5;124m\"\u001b[39m\u001b[38;5;124mtokenizer_file\u001b[39m\u001b[38;5;124m\"\u001b[39m \u001b[38;5;129;01min\u001b[39;00m vocab_files:\n\u001b[1;32m   2027\u001b[0m     \u001b[38;5;66;03m# Try to get the tokenizer config to see if there are versioned tokenizer files.\u001b[39;00m\n\u001b[1;32m   2028\u001b[0m     fast_tokenizer_file \u001b[38;5;241m=\u001b[39m FULL_TOKENIZER_FILE\n\u001b[0;32m-> 2029\u001b[0m     resolved_config_file \u001b[38;5;241m=\u001b[39m cached_file(\n\u001b[1;32m   2030\u001b[0m         pretrained_model_name_or_path,\n\u001b[1;32m   2031\u001b[0m         TOKENIZER_CONFIG_FILE,\n\u001b[1;32m   2032\u001b[0m         cache_dir\u001b[38;5;241m=\u001b[39mcache_dir,\n\u001b[1;32m   2033\u001b[0m         force_download\u001b[38;5;241m=\u001b[39mforce_download,\n\u001b[1;32m   2034\u001b[0m         resume_download\u001b[38;5;241m=\u001b[39mresume_download,\n\u001b[1;32m   2035\u001b[0m         proxies\u001b[38;5;241m=\u001b[39mproxies,\n\u001b[1;32m   2036\u001b[0m         token\u001b[38;5;241m=\u001b[39mtoken,\n\u001b[1;32m   2037\u001b[0m         revision\u001b[38;5;241m=\u001b[39mrevision,\n\u001b[1;32m   2038\u001b[0m         local_files_only\u001b[38;5;241m=\u001b[39mlocal_files_only,\n\u001b[1;32m   2039\u001b[0m         subfolder\u001b[38;5;241m=\u001b[39msubfolder,\n\u001b[1;32m   2040\u001b[0m         user_agent\u001b[38;5;241m=\u001b[39muser_agent,\n\u001b[1;32m   2041\u001b[0m         _raise_exceptions_for_gated_repo\u001b[38;5;241m=\u001b[39m\u001b[38;5;28;01mFalse\u001b[39;00m,\n\u001b[1;32m   2042\u001b[0m         _raise_exceptions_for_missing_entries\u001b[38;5;241m=\u001b[39m\u001b[38;5;28;01mFalse\u001b[39;00m,\n\u001b[1;32m   2043\u001b[0m         _raise_exceptions_for_connection_errors\u001b[38;5;241m=\u001b[39m\u001b[38;5;28;01mFalse\u001b[39;00m,\n\u001b[1;32m   2044\u001b[0m         _commit_hash\u001b[38;5;241m=\u001b[39mcommit_hash,\n\u001b[1;32m   2045\u001b[0m     )\n\u001b[1;32m   2046\u001b[0m     commit_hash \u001b[38;5;241m=\u001b[39m extract_commit_hash(resolved_config_file, commit_hash)\n\u001b[1;32m   2047\u001b[0m     \u001b[38;5;28;01mif\u001b[39;00m resolved_config_file \u001b[38;5;129;01mis\u001b[39;00m \u001b[38;5;129;01mnot\u001b[39;00m \u001b[38;5;28;01mNone\u001b[39;00m:\n",
      "File \u001b[0;32m/Applications/anaconda3/envs/misenv/lib/python3.12/site-packages/transformers/utils/hub.py:422\u001b[0m, in \u001b[0;36mcached_file\u001b[0;34m(path_or_repo_id, filename, cache_dir, force_download, resume_download, proxies, token, revision, local_files_only, subfolder, repo_type, user_agent, _raise_exceptions_for_gated_repo, _raise_exceptions_for_missing_entries, _raise_exceptions_for_connection_errors, _commit_hash, **deprecated_kwargs)\u001b[0m\n\u001b[1;32m    417\u001b[0m     \u001b[38;5;28;01mraise\u001b[39;00m \u001b[38;5;167;01mEnvironmentError\u001b[39;00m(\n\u001b[1;32m    418\u001b[0m         \u001b[38;5;124m\"\u001b[39m\u001b[38;5;124mYou are trying to access a gated repo.\u001b[39m\u001b[38;5;130;01m\\n\u001b[39;00m\u001b[38;5;124mMake sure to have access to it at \u001b[39m\u001b[38;5;124m\"\u001b[39m\n\u001b[1;32m    419\u001b[0m         \u001b[38;5;124mf\u001b[39m\u001b[38;5;124m\"\u001b[39m\u001b[38;5;124mhttps://huggingface.co/\u001b[39m\u001b[38;5;132;01m{\u001b[39;00mpath_or_repo_id\u001b[38;5;132;01m}\u001b[39;00m\u001b[38;5;124m.\u001b[39m\u001b[38;5;130;01m\\n\u001b[39;00m\u001b[38;5;132;01m{\u001b[39;00m\u001b[38;5;28mstr\u001b[39m(e)\u001b[38;5;132;01m}\u001b[39;00m\u001b[38;5;124m\"\u001b[39m\n\u001b[1;32m    420\u001b[0m     ) \u001b[38;5;28;01mfrom\u001b[39;00m \u001b[38;5;21;01me\u001b[39;00m\n\u001b[1;32m    421\u001b[0m \u001b[38;5;28;01mexcept\u001b[39;00m RepositoryNotFoundError \u001b[38;5;28;01mas\u001b[39;00m e:\n\u001b[0;32m--> 422\u001b[0m     \u001b[38;5;28;01mraise\u001b[39;00m \u001b[38;5;167;01mEnvironmentError\u001b[39;00m(\n\u001b[1;32m    423\u001b[0m         \u001b[38;5;124mf\u001b[39m\u001b[38;5;124m\"\u001b[39m\u001b[38;5;132;01m{\u001b[39;00mpath_or_repo_id\u001b[38;5;132;01m}\u001b[39;00m\u001b[38;5;124m is not a local folder and is not a valid model identifier \u001b[39m\u001b[38;5;124m\"\u001b[39m\n\u001b[1;32m    424\u001b[0m         \u001b[38;5;124m\"\u001b[39m\u001b[38;5;124mlisted on \u001b[39m\u001b[38;5;124m'\u001b[39m\u001b[38;5;124mhttps://huggingface.co/models\u001b[39m\u001b[38;5;124m'\u001b[39m\u001b[38;5;130;01m\\n\u001b[39;00m\u001b[38;5;124mIf this is a private repository, make sure to pass a token \u001b[39m\u001b[38;5;124m\"\u001b[39m\n\u001b[1;32m    425\u001b[0m         \u001b[38;5;124m\"\u001b[39m\u001b[38;5;124mhaving permission to this repo either by logging in with `huggingface-cli login` or by passing \u001b[39m\u001b[38;5;124m\"\u001b[39m\n\u001b[1;32m    426\u001b[0m         \u001b[38;5;124m\"\u001b[39m\u001b[38;5;124m`token=<your_token>`\u001b[39m\u001b[38;5;124m\"\u001b[39m\n\u001b[1;32m    427\u001b[0m     ) \u001b[38;5;28;01mfrom\u001b[39;00m \u001b[38;5;21;01me\u001b[39;00m\n\u001b[1;32m    428\u001b[0m \u001b[38;5;28;01mexcept\u001b[39;00m RevisionNotFoundError \u001b[38;5;28;01mas\u001b[39;00m e:\n\u001b[1;32m    429\u001b[0m     \u001b[38;5;28;01mraise\u001b[39;00m \u001b[38;5;167;01mEnvironmentError\u001b[39;00m(\n\u001b[1;32m    430\u001b[0m         \u001b[38;5;124mf\u001b[39m\u001b[38;5;124m\"\u001b[39m\u001b[38;5;132;01m{\u001b[39;00mrevision\u001b[38;5;132;01m}\u001b[39;00m\u001b[38;5;124m is not a valid git identifier (branch name, tag name or commit id) that exists \u001b[39m\u001b[38;5;124m\"\u001b[39m\n\u001b[1;32m    431\u001b[0m         \u001b[38;5;124m\"\u001b[39m\u001b[38;5;124mfor this model name. Check the model page at \u001b[39m\u001b[38;5;124m\"\u001b[39m\n\u001b[1;32m    432\u001b[0m         \u001b[38;5;124mf\u001b[39m\u001b[38;5;124m\"\u001b[39m\u001b[38;5;124m'\u001b[39m\u001b[38;5;124mhttps://huggingface.co/\u001b[39m\u001b[38;5;132;01m{\u001b[39;00mpath_or_repo_id\u001b[38;5;132;01m}\u001b[39;00m\u001b[38;5;124m'\u001b[39m\u001b[38;5;124m for available revisions.\u001b[39m\u001b[38;5;124m\"\u001b[39m\n\u001b[1;32m    433\u001b[0m     ) \u001b[38;5;28;01mfrom\u001b[39;00m \u001b[38;5;21;01me\u001b[39;00m\n",
      "\u001b[0;31mOSError\u001b[0m: gpt2 is not a local folder and is not a valid model identifier listed on 'https://huggingface.co/models'\nIf this is a private repository, make sure to pass a token having permission to this repo either by logging in with `huggingface-cli login` or by passing `token=<your_token>`"
     ]
    }
   ],
   "source": [
    "from transformers import GPT2LMHeadModel, GPT2Tokenizer\n",
    "\n",
    "tokenizer = GPT2Tokenizer.from_pretrained(\"gpt2\")\n",
    "model = GPT2LMHeadModel.from_pretrained(\"gpt2\")\n",
    "\n",
    "text = \"Nike's revenue in 2023 was $51.2 billion.\"\n",
    "inputs = tokenizer(text, return_tensors=\"pt\")\n",
    "\n",
    "loss = model(**inputs, labels=inputs[\"input_ids\"]).loss\n",
    "perplexity = torch.exp(loss)\n",
    "print(f\"Perplexity Score: {perplexity.item()}\")\n"
   ]
  },
  {
   "cell_type": "code",
   "execution_count": 59,
   "id": "026307b5-7bb4-4868-881f-2d17a78e834b",
   "metadata": {},
   "outputs": [
    {
     "name": "stdout",
     "output_type": "stream",
     "text": [
      "Faithfulness Score: 0.4507042253521127\n"
     ]
    }
   ],
   "source": [
    "from difflib import SequenceMatcher\n",
    "\n",
    "retrieved_text = \"Nike's revenue in 2023 was $51.2 billion.\"\n",
    "generated_answer = \"Nike made $55 billion in 2023.\"\n",
    "\n",
    "similarity = SequenceMatcher(None, retrieved_text, generated_answer).ratio()\n",
    "print(f\"Faithfulness Score: {similarity}\")\n"
   ]
  },
  {
   "cell_type": "code",
   "execution_count": null,
   "id": "85fe072c-c8aa-4c67-925f-7e6dfb4eb961",
   "metadata": {},
   "outputs": [],
   "source": []
  }
 ],
 "metadata": {
  "kernelspec": {
   "display_name": "Python 3 (ipykernel)",
   "language": "python",
   "name": "python3"
  },
  "language_info": {
   "codemirror_mode": {
    "name": "ipython",
    "version": 3
   },
   "file_extension": ".py",
   "mimetype": "text/x-python",
   "name": "python",
   "nbconvert_exporter": "python",
   "pygments_lexer": "ipython3",
   "version": "3.12.4"
  }
 },
 "nbformat": 4,
 "nbformat_minor": 5
}
